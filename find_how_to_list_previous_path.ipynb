{
 "cells": [
  {
   "cell_type": "code",
   "execution_count": 1,
   "metadata": {},
   "outputs": [],
   "source": [
    "from hydraseq import *\n",
    "from collections import defaultdict"
   ]
  },
  {
   "cell_type": "code",
   "execution_count": 2,
   "metadata": {},
   "outputs": [],
   "source": [
    "sentence = \"spring leaves spring\"\n",
    "\n",
    "hdr0 = hydraseq.Hydraseq('0_')\n",
    "hdr1 = hydraseq.Hydraseq('1_')\n",
    "hdr2 = hydraseq.Hydraseq('2_')\n",
    "\n",
    "for pattern in [\n",
    "    \"spring 0_A_\",\n",
    "    \"spring 0_V_\",\n",
    "    \"leaves 0_N_\",\n",
    "    \"leaves 0_V_\",\n",
    "    \"fall 0_A_\",\n",
    "    \"fall 0_V_\"\n",
    "]:\n",
    "    hdr0.insert(pattern)\n",
    "\n",
    "for pattern in [\n",
    "    \"0_N_ 1_NP_\",\n",
    "    \"0_A_ 0_N_ 1_NP_\",\n",
    "    \"0_V_ 1_VP_\",\n",
    "    \"0_V_ 0_N_ 1_VP_\"\n",
    "]:\n",
    "    hdr1.insert(pattern)\n",
    "\n",
    "for pattern in [\n",
    "    \"1_NP_ 1_VP_ 2_S_\"\n",
    "]:\n",
    "    hdr2.insert(pattern)\n"
   ]
  },
  {
   "cell_type": "code",
   "execution_count": 3,
   "metadata": {},
   "outputs": [
    {
     "name": "stdout",
     "output_type": "stream",
     "text": [
      "START CONVO  [['spring'], ['leaves'], ['spring']]   0_\n",
      "WORD= ['spring'] depth= 0 idx= 1  ACTIVE SEQ:  [['spring']]  next_word= 0_A_\n",
      "WORD= ['spring'] depth= 0 idx= 1  ACTIVE SEQ:  [['spring']]  next_word= 0_V_\n",
      "WORD= ['leaves'] depth= 1 idx= 2  ACTIVE SEQ:  [['leaves']]  next_word= 0_N_\n",
      "WORD= ['leaves'] depth= 1 idx= 2  ACTIVE SEQ:  [['leaves']]  next_word= 0_V_\n",
      "WORD= ['spring'] depth= 2 idx= 3  ACTIVE SEQ:  [['spring']]  next_word= 0_A_\n",
      "WORD= ['spring'] depth= 2 idx= 3  ACTIVE SEQ:  [['spring']]  next_word= 0_V_\n",
      "START CONVO  [['0_A_', '0_V_'], ['0_N_', '0_V_'], ['0_A_', '0_V_']]   1_\n",
      "WORD= ['0_A_', '0_V_'] depth= 0 idx= 1  ACTIVE SEQ:  [['0_V_']]  next_word= 1_VP_\n",
      "WORD= ['0_N_', '0_V_'] depth= 0 idx= 2  ACTIVE SEQ:  [['0_A_', '0_N_']]  next_word= 1_NP_\n",
      "WORD= ['0_N_', '0_V_'] depth= 0 idx= 2  ACTIVE SEQ:  [['0_V_', '0_N_']]  next_word= 1_VP_\n",
      "WORD= ['0_N_', '0_V_'] depth= 1 idx= 2  ACTIVE SEQ:  [['0_N_']]  next_word= 1_NP_\n",
      "WORD= ['0_N_', '0_V_'] depth= 1 idx= 2  ACTIVE SEQ:  [['0_V_']]  next_word= 1_VP_\n",
      "WORD= ['0_A_', '0_V_'] depth= 2 idx= 3  ACTIVE SEQ:  [['0_V_']]  next_word= 1_VP_\n",
      "START CONVO  [['1_NP_', '1_VP_'], ['1_VP_']]   2_\n",
      "WORD= ['1_VP_'] depth= 0 idx= 2  ACTIVE SEQ:  [['1_NP_', '1_VP_']]  next_word= 2_S_\n",
      "START CONVO  [['1_VP_'], ['1_NP_', '1_VP_'], ['1_VP_']]   2_\n",
      "WORD= ['1_VP_'] depth= 1 idx= 3  ACTIVE SEQ:  [['1_NP_', '1_VP_']]  next_word= 2_S_\n"
     ]
    },
    {
     "data": {
      "text/plain": [
       "[[[[0, 1, ['spring']], [1, 2, ['leaves']], [2, 3, ['spring']]]],\n",
       " [[[0, 1, ['0_A_', '0_V_']],\n",
       "   [1, 2, ['0_N_', '0_V_']],\n",
       "   [2, 3, ['0_A_', '0_V_']]]],\n",
       " [[[0, 2, ['1_NP_', '1_VP_']], [2, 3, ['1_VP_']]],\n",
       "  [[0, 1, ['1_VP_']], [1, 2, ['1_NP_', '1_VP_']], [2, 3, ['1_VP_']]]],\n",
       " [[[0, 2, ['2_S_']]], [[1, 3, ['2_S_']]]]]"
      ]
     },
     "execution_count": 3,
     "metadata": {},
     "output_type": "execute_result"
    }
   ],
   "source": [
    "hdr = Hydraseq(\"-\")\n",
    "hdr.insert(\"spring leaves spring _sentence\")\n",
    "hydras = [hdr, hdr0, hdr1, hdr2]\n",
    "think(hydras)"
   ]
  },
  {
   "cell_type": "code",
   "execution_count": 4,
   "metadata": {},
   "outputs": [],
   "source": [
    "from collections import namedtuple\n",
    "VertNode = namedtuple(\"VertNode\", [\"sentence\", \"lasts\", \"nexts\"])"
   ]
  },
  {
   "cell_type": "code",
   "execution_count": 5,
   "metadata": {},
   "outputs": [],
   "source": [
    "class VertiNode:\n",
    "    def __init__(self, start, end, word):\n",
    "        self.uppers = []\n",
    "        self.lowers = []\n",
    "        self.start = start\n",
    "        self.end = end\n",
    "        self.word = word\n",
    "        self.key = \"{}_{}\n",
    "        \n",
    "        \n",
    "{}\".format(self.start, self.word, self.end)\n",
    "\n",
    "    def __repr__(self):\n",
    "        return \"<key={},up={},down={}>\".format(self.key, len(self.uppers), len(self.lowers))\n",
    "Th = {} \n",
    "\n",
    "def node(start, end, word):\n",
    "    node =  Th.get(\"{}_{}_{}\".format(start,word,end), None)\n",
    "    if node:\n",
    "        return node\n",
    "    else:\n",
    "        node = VertiNode(start, end, word)\n",
    "        Th[node.key] = node\n",
    "        return node\n",
    "        \n",
    "\n",
    "def to_nodes(lst_lst_words):\n",
    "    return [[VertiNode(word) for word in lst_words] for lst_words in lst_lst_words]\n",
    "\n",
    "def to_words(lst_nodes):\n",
    "    return [node.word for node in lst_nodes]\n",
    "sentence = [['spring'],['leaves'],['spring']]"
   ]
  },
  {
   "cell_type": "code",
   "execution_count": 6,
   "metadata": {},
   "outputs": [],
   "source": [
    "def run_convolutions2(words, hydra, debug=False):\n",
    "    \"\"\"Run convolution on words using the hydra provided.\n",
    "    Args:\n",
    "        words, list<list<strings>>, the words, usually representing a coherent sentence or phrase\n",
    "        hydra, hydraseq, a trained hydra usually trained on the set of words used in sentence.\n",
    "        debug, output intermediate steps to console\n",
    "    Returns:\n",
    "        a list of convolutions, where each convolution is [start, end, [words]]\n",
    "    \"\"\"\n",
    "    print(\"START CONVO \", words, \" \", hydra.uuid)\n",
    "    words = words if isinstance(words, list) else hydra.get_word_array(words)\n",
    "    [[node(idx, subword, idx+1)] for idx, word in enumerate(words) for subword in word]\n",
    "    if debug: print(words)\n",
    "    hydras = []\n",
    "    results = []\n",
    "\n",
    "    for idx, word in enumerate(words):\n",
    "        if debug: print(word)\n",
    "        word_results = []\n",
    "        hydras.append(Hydraseq(idx, hydra))\n",
    "        for depth, _hydra in enumerate(hydras):\n",
    "            next_hits = []\n",
    "            for next_word in _hydra.hit(word, is_learning=False).get_next_values():\n",
    "                if next_word.startswith(hydra.uuid):\n",
    "                    next_hits.append(next_word)\n",
    "                    print(\n",
    "                        \"WORD=\",word,\n",
    "                        \"depth=\",depth,\n",
    "                        \"idx=\",idx+1,\n",
    "                        \" ACTIVE SEQ: \",[sequ.split()[1:-1] for sequ in _hydra.get_next_sequences() if sequ.split()[-1] == next_word],\n",
    "                        \" next_word=\", next_word\n",
    "                        )\n",
    "                    for subword in word:\n",
    "                        node(depth, next_word, idx+1).lowers.append(node(depth, subword, idx+1))\n",
    "                        node(depth, subword, idx+1).uppers.append(node(depth, next_word, idx+1))\n",
    "            if debug: print(next_hits)\n",
    "            if next_hits: word_results.append([depth, idx+1, next_hits])\n",
    "        results.extend(word_results)\n",
    "    return results"
   ]
  },
  {
   "cell_type": "code",
   "execution_count": 7,
   "metadata": {},
   "outputs": [
    {
     "name": "stdout",
     "output_type": "stream",
     "text": [
      "init_node  VertNode(sentence=[[0, 1, ['spring']], [1, 2, ['leaves']], [2, 3, ['spring']]], lasts=[], nexts=[])\n",
      "\n",
      "node.sentence= [[0, 1, ['spring']], [1, 2, ['leaves']], [2, 3, ['spring']]] \n",
      "patterns_only= [['spring'], ['leaves'], ['spring']] \n",
      "active_sequence= ['(*) spring leaves spring']\n",
      "START CONVO  [['spring'], ['leaves'], ['spring']]   0_\n",
      "WORD= ['spring'] depth= 0 idx= 1  ACTIVE SEQ:  [['spring']]  next_word= 0_A_\n",
      "WORD= ['spring'] depth= 0 idx= 1  ACTIVE SEQ:  [['spring']]  next_word= 0_V_\n",
      "WORD= ['leaves'] depth= 1 idx= 2  ACTIVE SEQ:  [['leaves']]  next_word= 0_N_\n",
      "WORD= ['leaves'] depth= 1 idx= 2  ACTIVE SEQ:  [['leaves']]  next_word= 0_V_\n",
      "WORD= ['spring'] depth= 2 idx= 3  ACTIVE SEQ:  [['spring']]  next_word= 0_A_\n",
      "WORD= ['spring'] depth= 2 idx= 3  ACTIVE SEQ:  [['spring']]  next_word= 0_V_\n",
      "fringe2  [[[0, 1, ['0_A_', '0_V_']], [1, 2, ['0_N_', '0_V_']], [2, 3, ['0_A_', '0_V_']]]]\n",
      "idx= 2\n",
      "\n",
      "node.sentence= [[0, 1, ['0_A_', '0_V_']], [1, 2, ['0_N_', '0_V_']], [2, 3, ['0_A_', '0_V_']]] \n",
      "patterns_only= [['0_A_', '0_V_'], ['0_N_', '0_V_'], ['0_A_', '0_V_']] \n",
      "active_sequence= []\n",
      "START CONVO  [['0_A_', '0_V_'], ['0_N_', '0_V_'], ['0_A_', '0_V_']]   1_\n",
      "WORD= ['0_A_', '0_V_'] depth= 0 idx= 1  ACTIVE SEQ:  [['0_V_']]  next_word= 1_VP_\n",
      "WORD= ['0_N_', '0_V_'] depth= 0 idx= 2  ACTIVE SEQ:  [['0_A_', '0_N_']]  next_word= 1_NP_\n",
      "WORD= ['0_N_', '0_V_'] depth= 0 idx= 2  ACTIVE SEQ:  [['0_V_', '0_N_']]  next_word= 1_VP_\n",
      "WORD= ['0_N_', '0_V_'] depth= 1 idx= 2  ACTIVE SEQ:  [['0_N_']]  next_word= 1_NP_\n",
      "WORD= ['0_N_', '0_V_'] depth= 1 idx= 2  ACTIVE SEQ:  [['0_V_']]  next_word= 1_VP_\n",
      "WORD= ['0_A_', '0_V_'] depth= 2 idx= 3  ACTIVE SEQ:  [['0_V_']]  next_word= 1_VP_\n",
      "fringe2  [[[0, 2, ['1_NP_', '1_VP_']], [2, 3, ['1_VP_']]], [[0, 1, ['1_VP_']], [1, 2, ['1_NP_', '1_VP_']], [2, 3, ['1_VP_']]]]\n",
      "\n",
      "node.sentence= [[0, 1, ['1_VP_']], [1, 2, ['1_NP_', '1_VP_']], [2, 3, ['1_VP_']]] \n",
      "patterns_only= [['1_VP_'], ['1_NP_', '1_VP_'], ['1_VP_']] \n",
      "active_sequence= []\n",
      "START CONVO  [['1_VP_'], ['1_NP_', '1_VP_'], ['1_VP_']]   1_\n",
      "fringe2  [[[0, 2, ['1_NP_', '1_VP_']], [2, 3, ['1_VP_']]]]\n",
      "idx= 3\n",
      "\n",
      "node.sentence= [[0, 2, ['1_NP_', '1_VP_']], [2, 3, ['1_VP_']]] \n",
      "patterns_only= [['1_NP_', '1_VP_'], ['1_VP_']] \n",
      "active_sequence= []\n",
      "START CONVO  [['1_NP_', '1_VP_'], ['1_VP_']]   2_\n",
      "WORD= ['1_VP_'] depth= 0 idx= 2  ACTIVE SEQ:  [['1_NP_', '1_VP_']]  next_word= 2_S_\n",
      "fringe2  [[[0, 2, ['2_S_']]]]\n",
      "idx= 4\n"
     ]
    }
   ],
   "source": [
    "def BFS(hydras):\n",
    "    def get_next_sentences(sentence, hydra):\n",
    "        return reconstruct(to_tree_nodes(run_convolutions2(patterns_only(sentence), hydra)))\n",
    "\n",
    "    init_node = VertNode(get_init_sentence_from_hydra(hydras[0])[0], [],[])\n",
    "    print(\"init_node \", init_node)\n",
    "    fringe = [init_node]\n",
    "    ends = [init_node]\n",
    "    idx = 1\n",
    "    while fringe:\n",
    "        if idx >= len(hydras): break\n",
    "        for node in fringe:\n",
    "            fringe.remove(node)\n",
    "            print('\\nnode.sentence=', node.sentence, '\\npatterns_only=', patterns_only(node.sentence), '\\nactive_sequence=', hydras[idx-1].look_ahead(patterns_only(node.sentence)).get_active_sequences())\n",
    "            fringe.extend([VertNode(sentence, [],[]) for sentence in get_next_sentences(node.sentence, hydras[idx])])\n",
    "            print('fringe2 ', [node.sentence for node in fringe])\n",
    "            for f_node in fringe:\n",
    "                if f_node in ends: ends.remove(f_node)\n",
    "                ends.append(f_node)\n",
    "                f_node.lasts.append(node)\n",
    "        idx +=1\n",
    "        print(\"idx=\",idx)\n",
    "    return ends\n",
    "ends = BFS(hydras)"
   ]
  },
  {
   "cell_type": "code",
   "execution_count": 8,
   "metadata": {},
   "outputs": [
    {
     "name": "stdout",
     "output_type": "stream",
     "text": [
      "START CONVO  [['spring'], ['leaves'], ['spring']]   0_\n",
      "WORD= ['spring'] depth= 0 idx= 1  ACTIVE SEQ:  [['spring']]  next_word= 0_A_\n",
      "WORD= ['spring'] depth= 0 idx= 1  ACTIVE SEQ:  [['spring']]  next_word= 0_V_\n",
      "WORD= ['leaves'] depth= 1 idx= 2  ACTIVE SEQ:  [['leaves']]  next_word= 0_N_\n",
      "WORD= ['leaves'] depth= 1 idx= 2  ACTIVE SEQ:  [['leaves']]  next_word= 0_V_\n",
      "WORD= ['spring'] depth= 2 idx= 3  ACTIVE SEQ:  [['spring']]  next_word= 0_A_\n",
      "WORD= ['spring'] depth= 2 idx= 3  ACTIVE SEQ:  [['spring']]  next_word= 0_V_\n"
     ]
    },
    {
     "data": {
      "text/plain": [
       "[[0, 1, ['0_A_', '0_V_']], [1, 2, ['0_N_', '0_V_']], [2, 3, ['0_A_', '0_V_']]]"
      ]
     },
     "execution_count": 8,
     "metadata": {},
     "output_type": "execute_result"
    }
   ],
   "source": [
    "results= run_convolutions2(sentence, hdr0)\n",
    "results"
   ]
  },
  {
   "cell_type": "code",
   "execution_count": 9,
   "metadata": {},
   "outputs": [
    {
     "data": {
      "text/plain": [
       "{'0_1*0_A_': <key=0_1*0_A_,up=0,down=0>,\n",
       " '0_1*0_V_': <key=0_1*0_V_,up=0,down=0>,\n",
       " '0_1*1_NP_': <key=0_1*1_NP_,up=0,down=0>,\n",
       " '0_1*1_VP_': <key=0_1*1_VP_,up=0,down=0>,\n",
       " '0_1*spring': <key=0_1*spring,up=1,down=0>,\n",
       " '0_2*0_N_': <key=0_2*0_N_,up=1,down=0>,\n",
       " '0_2*0_V_': <key=0_2*0_V_,up=1,down=0>,\n",
       " '0_2*1_NP_': <key=0_2*1_NP_,up=0,down=0>,\n",
       " '0_2*1_VP_': <key=0_2*1_VP_,up=1,down=0>,\n",
       " '0_2*2_S_': <key=0_2*2_S_,up=0,down=0>,\n",
       " '1_2*0_N_': <key=1_2*0_N_,up=0,down=0>,\n",
       " '1_2*0_V_': <key=1_2*0_V_,up=0,down=0>,\n",
       " '1_2*1_NP_': <key=1_2*1_NP_,up=0,down=0>,\n",
       " '1_2*1_VP_': <key=1_2*1_VP_,up=0,down=0>,\n",
       " '1_2*leaves': <key=1_2*leaves,up=1,down=0>,\n",
       " '2_3*0_A_': <key=2_3*0_A_,up=0,down=0>,\n",
       " '2_3*0_V_': <key=2_3*0_V_,up=0,down=0>,\n",
       " '2_3*1_VP_': <key=2_3*1_VP_,up=0,down=0>,\n",
       " '2_3*spring': <key=2_3*spring,up=1,down=0>}"
      ]
     },
     "execution_count": 9,
     "metadata": {},
     "output_type": "execute_result"
    }
   ],
   "source": [
    "Th"
   ]
  },
  {
   "cell_type": "code",
   "execution_count": 10,
   "metadata": {},
   "outputs": [
    {
     "ename": "KeyError",
     "evalue": "'0_2_2_S_'",
     "output_type": "error",
     "traceback": [
      "\u001b[0;31m---------------------------------------------------------------------------\u001b[0m",
      "\u001b[0;31mKeyError\u001b[0m                                  Traceback (most recent call last)",
      "\u001b[0;32m<ipython-input-10-90447951795c>\u001b[0m in \u001b[0;36m<module>\u001b[0;34m()\u001b[0m\n\u001b[0;32m----> 1\u001b[0;31m \u001b[0mTh\u001b[0m\u001b[0;34m[\u001b[0m\u001b[0;34m\"0_2_2_S_\"\u001b[0m\u001b[0;34m]\u001b[0m\u001b[0;34m.\u001b[0m\u001b[0mlowers\u001b[0m\u001b[0;34m[\u001b[0m\u001b[0;36m0\u001b[0m\u001b[0;34m]\u001b[0m\u001b[0;34m.\u001b[0m\u001b[0mkey\u001b[0m\u001b[0;34m\u001b[0m\u001b[0m\n\u001b[0m",
      "\u001b[0;31mKeyError\u001b[0m: '0_2_2_S_'"
     ]
    }
   ],
   "source": [
    "Th[\"0_2_2_S_\"].lowers[0].key"
   ]
  }
 ],
 "metadata": {
  "kernelspec": {
   "display_name": "Python 3",
   "language": "python",
   "name": "python3"
  },
  "language_info": {
   "codemirror_mode": {
    "name": "ipython",
    "version": 3
   },
   "file_extension": ".py",
   "mimetype": "text/x-python",
   "name": "python",
   "nbconvert_exporter": "python",
   "pygments_lexer": "ipython3",
   "version": "3.4.3"
  }
 },
 "nbformat": 4,
 "nbformat_minor": 2
}
