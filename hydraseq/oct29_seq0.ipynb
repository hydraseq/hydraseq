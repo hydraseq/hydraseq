{
 "cells": [
  {
   "cell_type": "code",
   "execution_count": 1,
   "metadata": {},
   "outputs": [],
   "source": [
    "import hydraseq as hds\n",
    "from hydraseq import run_convolutions"
   ]
  },
  {
   "cell_type": "code",
   "execution_count": 2,
   "metadata": {},
   "outputs": [],
   "source": [
    "from collections import namedtuple, defaultdict\n",
    "Convo = namedtuple('Convo', ['start', 'end', 'pattern', 'lasts', 'nexts'])\n",
    "endcap = Convo(-1,-1,['end'], [],[])\n",
    "def to_convo_node(lst_stuff):\n",
    "    return Convo(lst_stuff[0], lst_stuff[1], lst_stuff[2], [], [])\n",
    "\n",
    "def link(conv1, conv2):\n",
    "    conv1.nexts.append(conv2)\n",
    "    conv2.lasts.append(conv1)\n",
    "\n",
    "def stackem(lst_convos):\n",
    "    frame = defaultdict(list)\n",
    "    ends = []\n",
    "    for convo in lst_convos:\n",
    "        if frame[convo[0]]:\n",
    "            for cnode in frame[convo[0]]:\n",
    "                convo_node = to_convo_node(convo)\n",
    "                link(cnode, convo_node)\n",
    "                ends.append(convo_node)\n",
    "                if cnode in ends: ends.remove(cnode)\n",
    "                frame[convo_node.end].append(convo_node)\n",
    "        else:\n",
    "            convo_node = to_convo_node(convo)\n",
    "            ends.append(convo_node)\n",
    "            frame[convo_node.end].append(convo_node)\n",
    "    return ends\n",
    "\n",
    "def recon(end_nodes):\n",
    "    stack = []\n",
    "    for node in end_nodes:\n",
    "        sentence = []\n",
    "        sentence.append([node.start, node.end, node.pattern])\n",
    "        while node.lasts:\n",
    "            node = node.lasts[0]\n",
    "            sentence.append([node.start, node.end, node.pattern])\n",
    "        sentence.reverse()\n",
    "        stack.append(sentence)\n",
    "    return stack\n",
    "\n",
    "def pats_only(sentence):\n",
    "    return [sent[2] for sent in sentence]"
   ]
  },
  {
   "cell_type": "code",
   "execution_count": 3,
   "metadata": {},
   "outputs": [
    {
     "data": {
      "text/plain": [
       "defaultdict(list,\n",
       "            {'leaves': [<node: leaves,(*) spring leaves>],\n",
       "             'spring': [<node: spring,(*) spring>,\n",
       "              <node: spring,(*) spring leaves spring>]})"
      ]
     },
     "execution_count": 3,
     "metadata": {},
     "output_type": "execute_result"
    }
   ],
   "source": [
    "sentence = [[\"spring\"], [\"leaves\"], [\"spring\"]]\n",
    "hd0 = hds.Hydraseq(\"0_\")\n",
    "hd0.insert(sentence)\n",
    "hd0.columns"
   ]
  },
  {
   "cell_type": "code",
   "execution_count": 4,
   "metadata": {},
   "outputs": [],
   "source": [
    "hd1 = hds.Hydraseq(\"1_\")\n",
    "encodes = [\n",
    "    \"spring 1_Adj\",\n",
    "    \"spring 1_Verb\",\n",
    "    \"spring 1_Noun\",\n",
    "    \"leaves 1_Noun\",\n",
    "    \"leaves 1_Verb\"\n",
    "]\n",
    "for encode in encodes:\n",
    "    hd1.insert(encode)"
   ]
  },
  {
   "cell_type": "code",
   "execution_count": 5,
   "metadata": {},
   "outputs": [
    {
     "data": {
      "text/plain": [
       "defaultdict(list,\n",
       "            {'1_Adj': [<node: 1_Adj,(*) spring 1_Adj>],\n",
       "             '1_Noun': [<node: 1_Noun,(*) spring 1_Noun>,\n",
       "              <node: 1_Noun,(*) leaves 1_Noun>],\n",
       "             '1_Verb': [<node: 1_Verb,(*) spring 1_Verb>,\n",
       "              <node: 1_Verb,(*) leaves 1_Verb>],\n",
       "             'leaves': [<node: leaves,(*) leaves>],\n",
       "             'spring': [<node: spring,(*) spring>]})"
      ]
     },
     "execution_count": 5,
     "metadata": {},
     "output_type": "execute_result"
    }
   ],
   "source": [
    "hd1.columns"
   ]
  },
  {
   "cell_type": "code",
   "execution_count": 6,
   "metadata": {},
   "outputs": [],
   "source": [
    "hd2 = hds.Hydraseq('_')\n",
    "for pattern in [\n",
    "    \"1_Noun _NP_\",\n",
    "    \"1_Adj 1_Noun _NP_\",\n",
    "    \"1_Verb _VP_\",\n",
    "    \"1_Adj 1_Noun _NP_\",\n",
    "    \"1_Adj 1_Adj 1_Adj 1_Noun _NP_\",\n",
    "\n",
    "]:\n",
    "    hd2.insert(pattern)"
   ]
  },
  {
   "cell_type": "code",
   "execution_count": 7,
   "metadata": {},
   "outputs": [
    {
     "data": {
      "text/plain": [
       "[[0, 1, ['1_Adj', '1_Noun', '1_Verb']],\n",
       " [1, 2, ['1_Noun', '1_Verb']],\n",
       " [2, 3, ['1_Adj', '1_Noun', '1_Verb']]]"
      ]
     },
     "execution_count": 7,
     "metadata": {},
     "output_type": "execute_result"
    }
   ],
   "source": [
    "conv1 = run_convolutions(\"spring leaves spring\", hd1)\n",
    "conv1"
   ]
  },
  {
   "cell_type": "code",
   "execution_count": 8,
   "metadata": {},
   "outputs": [
    {
     "data": {
      "text/plain": [
       "[[[0, 1, ['1_Adj', '1_Noun', '1_Verb']],\n",
       "  [1, 2, ['1_Noun', '1_Verb']],\n",
       "  [2, 3, ['1_Adj', '1_Noun', '1_Verb']]]]"
      ]
     },
     "execution_count": 8,
     "metadata": {},
     "output_type": "execute_result"
    }
   ],
   "source": [
    "#lst_convos = [[0,1,['a']], [1,4,['b']], [4,5,['c']],[1,3,['d']],[3,7,['e']], [10,11,['g']]]\n",
    "sentences = recon(stackem(conv1))\n",
    "sentences"
   ]
  },
  {
   "cell_type": "code",
   "execution_count": 9,
   "metadata": {},
   "outputs": [
    {
     "name": "stdout",
     "output_type": "stream",
     "text": [
      "[[0, 1, ['_NP_', '_VP_']], [0, 2, ['_NP_']], [1, 2, ['_NP_', '_VP_']], [2, 3, ['_NP_', '_VP_']]]\n",
      "[[0, 2, ['_NP_']], [2, 3, ['_NP_', '_VP_']]]\n",
      "[[0, 1, ['_NP_', '_VP_']], [1, 2, ['_NP_', '_VP_']], [2, 3, ['_NP_', '_VP_']]]\n"
     ]
    }
   ],
   "source": [
    "for sent in sentences:\n",
    "    conv = run_convolutions(pats_only(sent), hd2)\n",
    "    print(conv)\n",
    "    for item in recon(stackem(conv)):\n",
    "        print(item)"
   ]
  },
  {
   "cell_type": "code",
   "execution_count": 12,
   "metadata": {},
   "outputs": [
    {
     "name": "stdout",
     "output_type": "stream",
     "text": [
      "2\n"
     ]
    },
    {
     "data": {
      "text/plain": [
       "['c']"
      ]
     },
     "execution_count": 12,
     "metadata": {},
     "output_type": "execute_result"
    }
   ],
   "source": [
    "ends = stackem([[0, 1, ['a']], [0, 2, ['b']], [1, 2, ['c']], [2, 3, ['d']]])\n",
    "print(len(ends))\n",
    "ends[1].lasts[0].pattern"
   ]
  }
 ],
 "metadata": {
  "kernelspec": {
   "display_name": "Python 3",
   "language": "python",
   "name": "python3"
  },
  "language_info": {
   "codemirror_mode": {
    "name": "ipython",
    "version": 3
   },
   "file_extension": ".py",
   "mimetype": "text/x-python",
   "name": "python",
   "nbconvert_exporter": "python",
   "pygments_lexer": "ipython3",
   "version": "3.4.3"
  }
 },
 "nbformat": 4,
 "nbformat_minor": 2
}
