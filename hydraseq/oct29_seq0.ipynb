{
 "cells": [
  {
   "cell_type": "code",
   "execution_count": 1,
   "metadata": {},
   "outputs": [],
   "source": [
    "import hydraseq as hds\n",
    "from hydraseq import run_convolutions #, flatten_tree"
   ]
  },
  {
   "cell_type": "code",
   "execution_count": 2,
   "metadata": {},
   "outputs": [
    {
     "data": {
      "text/plain": [
       "defaultdict(list,\n",
       "            {'leaves': [<node: leaves,(*) spring leaves>],\n",
       "             'spring': [<node: spring,(*) spring>,\n",
       "              <node: spring,(*) spring leaves spring>]})"
      ]
     },
     "execution_count": 2,
     "metadata": {},
     "output_type": "execute_result"
    }
   ],
   "source": [
    "sentence = [[\"spring\"], [\"leaves\"], [\"spring\"]]\n",
    "hd0 = hds.Hydraseq(\"0_\")\n",
    "hd0.insert(sentence)\n",
    "hd0.columns"
   ]
  },
  {
   "cell_type": "code",
   "execution_count": 3,
   "metadata": {},
   "outputs": [],
   "source": [
    "hd1 = hds.Hydraseq(\"1_\")\n",
    "encodes = [\n",
    "    \"spring 1_Adj\",\n",
    "    \"spring 1_Verb\",\n",
    "    \"spring 1_Noun\",\n",
    "    \"leaves 1_Noun\",\n",
    "    \"leaves 1_Verb\"\n",
    "]\n",
    "for encode in encodes:\n",
    "    hd1.insert(encode)"
   ]
  },
  {
   "cell_type": "code",
   "execution_count": 4,
   "metadata": {},
   "outputs": [
    {
     "data": {
      "text/plain": [
       "defaultdict(list,\n",
       "            {'1_Adj': [<node: 1_Adj,(*) spring 1_Adj>],\n",
       "             '1_Noun': [<node: 1_Noun,(*) spring 1_Noun>,\n",
       "              <node: 1_Noun,(*) leaves 1_Noun>],\n",
       "             '1_Verb': [<node: 1_Verb,(*) spring 1_Verb>,\n",
       "              <node: 1_Verb,(*) leaves 1_Verb>],\n",
       "             'leaves': [<node: leaves,(*) leaves>],\n",
       "             'spring': [<node: spring,(*) spring>]})"
      ]
     },
     "execution_count": 4,
     "metadata": {},
     "output_type": "execute_result"
    }
   ],
   "source": [
    "hd1.columns"
   ]
  },
  {
   "cell_type": "code",
   "execution_count": 5,
   "metadata": {},
   "outputs": [
    {
     "data": {
      "text/plain": [
       "[[0, 1, ['1_Adj', '1_Noun', '1_Verb']],\n",
       " [1, 2, ['1_Noun', '1_Verb']],\n",
       " [2, 3, ['1_Adj', '1_Noun', '1_Verb']]]"
      ]
     },
     "execution_count": 5,
     "metadata": {},
     "output_type": "execute_result"
    }
   ],
   "source": [
    "conv1 = run_convolutions(\"spring leaves spring\", hd1)\n",
    "conv1"
   ]
  },
  {
   "cell_type": "code",
   "execution_count": 6,
   "metadata": {},
   "outputs": [],
   "source": [
    "def generate_tree(lst_nods, debug=False):\n",
    "    print(\"generate_tree\")\n",
    "    seq = hds.Hydraseq(\"_\")\n",
    "    seq.insert(\"0\")\n",
    "    zero = seq.columns[\"0\"][0]\n",
    "    for idx, nod in enumerate(lst_nods):\n",
    "        node = hds.Node(nod[2])\n",
    "        for nd in seq.columns[str(nod[0])]:\n",
    "            print(\"nd from \", str(nod[0]))\n",
    "            nd.nexts.append(node)\n",
    "            node.lasts.append(nd)\n",
    "            if debug: print(\"A inserting a node at {}\".format(str(nod[1])))\n",
    "            seq.columns[str(nod[1])].append(node)\n",
    "            break;\n",
    "        else:\n",
    "            zero.nexts.append(node)\n",
    "            node.lasts.append(zero)\n",
    "            if debug: print(\"B inserting a node at {}\".format(str(nod[1])))\n",
    "            seq.columns[str(nod[1])].append(node)\n",
    "        \n",
    "    return seq\n",
    "    "
   ]
  },
  {
   "cell_type": "code",
   "execution_count": 7,
   "metadata": {},
   "outputs": [
    {
     "name": "stdout",
     "output_type": "stream",
     "text": [
      "generate_tree\n",
      "nd from  0\n",
      "nd from  1\n",
      "nd from  2\n"
     ]
    },
    {
     "data": {
      "text/plain": [
       "defaultdict(list,\n",
       "            {'0': [<node: 0,(*) 0>],\n",
       "             '1': [<node: ['1_Adj', '1_Noun', '1_Verb'],(*) 0 ['1_Adj', '1_Noun', '1_Verb']>],\n",
       "             '2': [<node: ['1_Noun', '1_Verb'],(*) 0 ['1_Adj', '1_Noun', '1_Verb'] ['1_Noun', '1_Verb']>],\n",
       "             '3': [<node: ['1_Adj', '1_Noun', '1_Verb'],(*) 0 ['1_Adj', '1_Noun', '1_Verb'] ['1_Noun', '1_Verb'] ['1_Adj', '1_Noun', '1_Verb']>]})"
      ]
     },
     "execution_count": 7,
     "metadata": {},
     "output_type": "execute_result"
    }
   ],
   "source": [
    "s = generate_tree(conv1)\n",
    "s.columns"
   ]
  },
  {
   "cell_type": "code",
   "execution_count": 8,
   "metadata": {},
   "outputs": [
    {
     "name": "stdout",
     "output_type": "stream",
     "text": [
      "flatten_tree\n",
      "3 (*) 0 ['1_Adj', '1_Noun', '1_Verb'] ['1_Noun', '1_Verb'] ['1_Adj', '1_Noun', '1_Verb']\n",
      "[[['1_Adj', '1_Noun', '1_Verb'], ['1_Noun', '1_Verb'], ['1_Adj', '1_Noun', '1_Verb']]]\n"
     ]
    }
   ],
   "source": [
    "def flatten_tree(seq, debug=False):\n",
    "    print(\"flatten_tree\")\n",
    "    sequences = []\n",
    "    for node_tup in [(key, node) for key, lst_nodes in seq.columns.items() for node in lst_nodes if not node.nexts]:\n",
    "        key, node = node_tup\n",
    "        print(key, node.get_sequence())\n",
    "        outcome = \" \".join(node.get_sequence().split()[2:])\n",
    "        found_list = list(eval(outcome.replace(\"] [\", \"], [\")))\n",
    "        sequences.append(found_list)\n",
    "    return sequences\n",
    "\n",
    "flattened = flatten_tree(s, debug=True)\n",
    "print(flattened)"
   ]
  },
  {
   "cell_type": "markdown",
   "metadata": {},
   "source": [
    "## Problem, generate tree inserts 6 nodes, flatten tree identifies 5.."
   ]
  },
  {
   "cell_type": "code",
   "execution_count": 20,
   "metadata": {},
   "outputs": [
    {
     "name": "stdout",
     "output_type": "stream",
     "text": [
      "[[0, 1, ['_NP_', '_VP_']], [0, 2, ['_NP_']], [1, 2, ['_NP_', '_VP_']], [2, 3, ['_NP_', '_VP_']]]\n",
      "generate_tree\n",
      "nd from  0\n",
      "nd from  0\n",
      "nd from  1\n",
      "nd from  2\n",
      "0 [<node: 0,(*) 0>]\n",
      "2 [<node: ['_NP_'],(*) 0 ['_NP_']>, <node: ['_NP_', '_VP_'],(*) 0 ['_NP_', '_VP_'] ['_NP_', '_VP_']>]\n",
      "3 [<node: ['_NP_', '_VP_'],(*) 0 ['_NP_'] ['_NP_', '_VP_']>]\n",
      "1 [<node: ['_NP_', '_VP_'],(*) 0 ['_NP_', '_VP_']>]\n",
      "flatten_tree\n",
      "2 (*) 0 ['_NP_', '_VP_'] ['_NP_', '_VP_']\n",
      "3 (*) 0 ['_NP_'] ['_NP_', '_VP_']\n",
      "[[['_NP_', '_VP_'], ['_NP_', '_VP_']], [['_NP_'], ['_NP_', '_VP_']]]\n"
     ]
    }
   ],
   "source": [
    "hd2 = hds.Hydraseq('_')\n",
    "for pattern in [\n",
    "    \"1_Noun _NP_\",\n",
    "    \"1_Adj 1_Noun _NP_\",\n",
    "    \"1_Verb _VP_\",\n",
    "    \"1_Adj 1_Noun _NP_\",\n",
    "    \"1_Adj 1_Adj 1_Adj 1_Noun _NP_\",\n",
    "\n",
    "]:\n",
    "    hd2.insert(pattern)\n",
    "    \n",
    "for flat in flattened:\n",
    "    convo = run_convolutions(flat, hd2)\n",
    "    print(convo)\n",
    "    f = generate_tree(convo)\n",
    "    for column, vals in f.columns.items():\n",
    "        print(column, vals)\n",
    "    print(flatten_tree(f))"
   ]
  },
  {
   "cell_type": "code",
   "execution_count": null,
   "metadata": {},
   "outputs": [],
   "source": [
    "\n",
    "from hydraseq import Hydraseq, run_convolutions\n",
    "\n",
    "\n",
    "hdq1 = Hydraseq('0_')\n",
    "for pattern in [\n",
    "    \"the 0_A\",\n",
    "    \"quick 0_ADJ\",\n",
    "    \"brown 0_ADJ\",\n",
    "    \"fox 0_N\",\n",
    "    \"fox 0_V\",\n",
    "    \"jumped 0_V\",\n",
    "    \"over 0_PR\",\n",
    "    \"lazy 0_ADJ\",\n",
    "    \"dog 0_N\"\n",
    "]:\n",
    "    hdq1.insert(pattern)\n",
    "\n",
    "hdq2 = Hydraseq('_')\n",
    "for pattern in [\n",
    "    \"0_N _NP_\",\n",
    "    \"0_ADJ 0_N _NP_\",\n",
    "    \"0_V _VP_\",\n",
    "    \"0_ADV 0_V _VP_\",\n",
    "    \"0_A 0_N _NP_\",\n",
    "    \"0_A 0_ADJ 0_ADJ 0_N _NP_\",\n",
    "\n",
    "]:\n",
    "    hdq2.insert(pattern)\n",
    "\n",
    "hdq3 = Hydraseq('3_')\n",
    "for pattern in [\n",
    "    \"_NP_ _VP_ 3_BINGO\"\n",
    "]:\n",
    "    hdq3.insert(pattern)\n",
    "\n",
    "sentence = \"the quick brown fox jumped over the lazy dog\"\n",
    "\n",
    "hdq0 = Hydraseq('0_')\n",
    "for word in sentence.split():\n",
    "    hdq0.insert(\"{} 0_{}\".format(word,word))\n",
    "#print(run_convolutions(sentence.split(), hdq0))\n",
    "result = run_convolutions(sentence.split(), hdq1)\n",
    "expected = [[0, 1, ['0_A']], [1, 2, ['0_ADJ']], [2, 3, ['0_ADJ']], [3, 4, ['0_N', '0_V']], [4, 5, ['0_V']], [5, 6, ['0_PR']], [6, 7, ['0_A']], [7, 8, ['0_ADJ']], [8, 9, ['0_N']]]\n",
    "assert result == expected\n",
    "s = generate_tree(result)\n",
    "encodeds = flatten_tree(s)\n",
    "assert encodeds == [[['0_A'], ['0_ADJ'], ['0_ADJ'], ['0_N', '0_V'], ['0_V'], ['0_PR'], ['0_A'], ['0_ADJ'], ['0_N']]]\n",
    "\n",
    "results = run_convolutions(encodeds[0], hdq2)\n",
    "expected = [[0, 4, ['_NP_']], [2, 4, ['_NP_']], [3, 4, ['_NP_', '_VP_']], [4, 5, ['_VP_']], [7, 9, ['_NP_']], [8, 9, ['_NP_']]]\n",
    "assert results == expected\n",
    "s = generate_tree(results, debug=True)\n",
    "encodeds = flatten_tree(s)\n",
    "print(encodeds)\n",
    "assert encodeds == [['_NP_'], ['_NP_', '_VP_'], [['_NP_'], ['_VP_']], ['_NP_'], ['_NP_']]\n",
    "print(results)\n",
    "for key, nodes in s.columns.items():\n",
    "    print(key, nodes)\n",
    "\n",
    "\n",
    "expected = [[0,2, ['3_BINGO']]]\n",
    "results = run_convolutions(encodeds, hdq3)\n",
    "print(results)\n",
    "assert results == expected"
   ]
  },
  {
   "cell_type": "code",
   "execution_count": null,
   "metadata": {},
   "outputs": [],
   "source": [
    "hdq2.look_ahead([['0_A'], ['0_ADJ'], ['0_ADJ'], ['0_N', '0_V']]).get_next_values()"
   ]
  },
  {
   "cell_type": "code",
   "execution_count": null,
   "metadata": {},
   "outputs": [],
   "source": [
    "hydra = Hydraseq(1, hdq2)"
   ]
  },
  {
   "cell_type": "code",
   "execution_count": null,
   "metadata": {},
   "outputs": [],
   "source": [
    "hydra.hit(['0_N', '0_V'], is_learning=False).get_next_values()"
   ]
  }
 ],
 "metadata": {
  "kernelspec": {
   "display_name": "Python 3",
   "language": "python",
   "name": "python3"
  },
  "language_info": {
   "codemirror_mode": {
    "name": "ipython",
    "version": 3
   },
   "file_extension": ".py",
   "mimetype": "text/x-python",
   "name": "python",
   "nbconvert_exporter": "python",
   "pygments_lexer": "ipython3",
   "version": "3.4.3"
  }
 },
 "nbformat": 4,
 "nbformat_minor": 2
}
