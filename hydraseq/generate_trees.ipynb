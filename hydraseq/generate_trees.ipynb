{
 "cells": [
  {
   "cell_type": "code",
   "execution_count": 1,
   "metadata": {},
   "outputs": [],
   "source": [
    "import hydraseq as hds"
   ]
  },
  {
   "cell_type": "code",
   "execution_count": 2,
   "metadata": {},
   "outputs": [],
   "source": [
    "hs = hds.Hydraseq(\"_\")"
   ]
  },
  {
   "cell_type": "code",
   "execution_count": 3,
   "metadata": {},
   "outputs": [],
   "source": [
    "faux = [[0, 2, ['alpha']], [2, 5, ['beta','zeta']], [2, 3, ['gamma']], [3, 5, ['niarfe']],[5, 7, ['delta']]]"
   ]
  },
  {
   "cell_type": "code",
   "execution_count": 4,
   "metadata": {},
   "outputs": [],
   "source": [
    "def generate_tree(lst_nods):\n",
    "    seq = hds.Hydraseq(\"_\")\n",
    "    seq.insert(\"0\")\n",
    "    \n",
    "    for idx, nod in enumerate(lst_nods):\n",
    "        for nd in seq.columns[str(nod[0])]:\n",
    "            node = hds.Node(nod[2])\n",
    "            nd.nexts.append(node)\n",
    "            node.lasts.append(nd)\n",
    "            seq.columns[str(nod[1])].append(node)\n",
    "    return seq\n",
    "    "
   ]
  },
  {
   "cell_type": "code",
   "execution_count": 5,
   "metadata": {},
   "outputs": [],
   "source": [
    "s = generate_tree(faux)"
   ]
  },
  {
   "cell_type": "code",
   "execution_count": 6,
   "metadata": {},
   "outputs": [
    {
     "data": {
      "text/plain": [
       "defaultdict(list,\n",
       "            {'0': [<node: 0,(*) 0>],\n",
       "             '2': [<node: ['alpha'],(*) 0 ['alpha']>],\n",
       "             '3': [<node: ['gamma'],(*) 0 ['alpha'] ['gamma']>],\n",
       "             '5': [<node: ['beta', 'zeta'],(*) 0 ['alpha'] ['beta', 'zeta']>,\n",
       "              <node: ['niarfe'],(*) 0 ['alpha'] ['gamma'] ['niarfe']>],\n",
       "             '7': [<node: ['delta'],(*) 0 ['alpha'] ['beta', 'zeta'] ['delta']>,\n",
       "              <node: ['delta'],(*) 0 ['alpha'] ['gamma'] ['niarfe'] ['delta']>]})"
      ]
     },
     "execution_count": 6,
     "metadata": {},
     "output_type": "execute_result"
    }
   ],
   "source": [
    "s.columns"
   ]
  },
  {
   "cell_type": "code",
   "execution_count": 27,
   "metadata": {},
   "outputs": [
    {
     "name": "stdout",
     "output_type": "stream",
     "text": [
      "[['alpha'], ['beta', 'zeta'], ['delta']]\n",
      "[['alpha'], ['gamma'], ['niarfe'], ['delta']]\n"
     ]
    }
   ],
   "source": [
    "for node in [node for _, lst_nodes in s.columns.items() for node in lst_nodes if not node.nexts]:\n",
    "    outcome = \" \".join(node.get_sequence().split()[2:]) \n",
    "    print(list(eval(outcome.replace(\"] [\", \"], [\"))))"
   ]
  },
  {
   "cell_type": "code",
   "execution_count": 8,
   "metadata": {},
   "outputs": [
    {
     "data": {
      "text/plain": [
       "{0: 'a'}"
      ]
     },
     "execution_count": 8,
     "metadata": {},
     "output_type": "execute_result"
    }
   ],
   "source": [
    "d = {}\n",
    "d[0] = 'a'\n",
    "d"
   ]
  }
 ],
 "metadata": {
  "kernelspec": {
   "display_name": "Python 3",
   "language": "python",
   "name": "python3"
  },
  "language_info": {
   "codemirror_mode": {
    "name": "ipython",
    "version": 3
   },
   "file_extension": ".py",
   "mimetype": "text/x-python",
   "name": "python",
   "nbconvert_exporter": "python",
   "pygments_lexer": "ipython3",
   "version": "3.4.3"
  }
 },
 "nbformat": 4,
 "nbformat_minor": 2
}
