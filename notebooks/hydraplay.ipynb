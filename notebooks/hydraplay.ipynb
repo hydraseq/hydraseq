{
 "cells": [
  {
   "cell_type": "code",
   "execution_count": 1,
   "metadata": {},
   "outputs": [],
   "source": [
    "import sys\n",
    "sys.path.append(\"/Users/niarfe/tmprepos/hydraseq/\")\n",
    "import hydraseq\n",
    "#Check out the cell, second from bottom, I think that is it"
   ]
  },
  {
   "cell_type": "code",
   "execution_count": 2,
   "metadata": {},
   "outputs": [],
   "source": [
    "hdq = hydraseq.Hydraseq('one')"
   ]
  },
  {
   "cell_type": "code",
   "execution_count": 3,
   "metadata": {},
   "outputs": [
    {
     "data": {
      "text/plain": [
       "uuid: one\n",
       "n_init: <node: (*),(*)>:\n",
       "active values: ['dog']\n",
       "next values: []"
      ]
     },
     "execution_count": 3,
     "metadata": {},
     "output_type": "execute_result"
    }
   ],
   "source": [
    "hdq.insert(\"the quick brown fox jumped over the lazy dog\")"
   ]
  },
  {
   "cell_type": "code",
   "execution_count": 4,
   "metadata": {},
   "outputs": [
    {
     "data": {
      "text/plain": [
       "['brown']"
      ]
     },
     "execution_count": 4,
     "metadata": {},
     "output_type": "execute_result"
    }
   ],
   "source": [
    "hdq.look_ahead(\"the quick\").get_next_values()"
   ]
  },
  {
   "cell_type": "code",
   "execution_count": 5,
   "metadata": {},
   "outputs": [],
   "source": [
    "hd2 = hydraseq.Hydraseq('two')"
   ]
  },
  {
   "cell_type": "code",
   "execution_count": 6,
   "metadata": {},
   "outputs": [
    {
     "data": {
      "text/plain": [
       "[]"
      ]
     },
     "execution_count": 6,
     "metadata": {},
     "output_type": "execute_result"
    }
   ],
   "source": [
    "hd2.look_ahead(\"the quick\").get_next_values()"
   ]
  },
  {
   "cell_type": "code",
   "execution_count": 7,
   "metadata": {},
   "outputs": [],
   "source": [
    "hd2.columns = hdq.columns"
   ]
  },
  {
   "cell_type": "code",
   "execution_count": 8,
   "metadata": {},
   "outputs": [
    {
     "data": {
      "text/plain": [
       "[]"
      ]
     },
     "execution_count": 8,
     "metadata": {},
     "output_type": "execute_result"
    }
   ],
   "source": [
    "hd2.look_ahead(\"the quick\").get_next_values()"
   ]
  },
  {
   "cell_type": "code",
   "execution_count": 9,
   "metadata": {},
   "outputs": [
    {
     "data": {
      "text/plain": [
       "defaultdict(list,\n",
       "            {'brown': [<node: brown,(*) the quick brown>],\n",
       "             'dog': [<node: dog,(*) the quick brown fox jumped over the lazy dog>],\n",
       "             'fox': [<node: fox,(*) the quick brown fox>],\n",
       "             'jumped': [<node: jumped,(*) the quick brown fox jumped>],\n",
       "             'lazy': [<node: lazy,(*) the quick brown fox jumped over the lazy>],\n",
       "             'over': [<node: over,(*) the quick brown fox jumped over>],\n",
       "             'quick': [<node: quick,(*) the quick>],\n",
       "             'the': [<node: the,(*) the>,\n",
       "              <node: the,(*) the quick brown fox jumped over the>]})"
      ]
     },
     "execution_count": 9,
     "metadata": {},
     "output_type": "execute_result"
    }
   ],
   "source": [
    "hd2.columns"
   ]
  },
  {
   "cell_type": "code",
   "execution_count": 10,
   "metadata": {},
   "outputs": [],
   "source": [
    "hd2.n_init.nexts = hdq.n_init.nexts"
   ]
  },
  {
   "cell_type": "code",
   "execution_count": 11,
   "metadata": {},
   "outputs": [
    {
     "data": {
      "text/plain": [
       "['brown']"
      ]
     },
     "execution_count": 11,
     "metadata": {},
     "output_type": "execute_result"
    }
   ],
   "source": [
    "hd2.look_ahead(\"the quick\").get_next_values()"
   ]
  },
  {
   "cell_type": "code",
   "execution_count": 12,
   "metadata": {},
   "outputs": [
    {
     "data": {
      "text/plain": [
       "['brown']"
      ]
     },
     "execution_count": 12,
     "metadata": {},
     "output_type": "execute_result"
    }
   ],
   "source": [
    "hdq.get_next_values()"
   ]
  },
  {
   "cell_type": "code",
   "execution_count": 13,
   "metadata": {},
   "outputs": [
    {
     "data": {
      "text/plain": [
       "['brown']"
      ]
     },
     "execution_count": 13,
     "metadata": {},
     "output_type": "execute_result"
    }
   ],
   "source": [
    "hd2.get_next_values()"
   ]
  },
  {
   "cell_type": "code",
   "execution_count": 14,
   "metadata": {},
   "outputs": [
    {
     "data": {
      "text/plain": [
       "['fox']"
      ]
     },
     "execution_count": 14,
     "metadata": {},
     "output_type": "execute_result"
    }
   ],
   "source": [
    "hd2.hit(\"brown\").get_next_values()"
   ]
  },
  {
   "cell_type": "code",
   "execution_count": 15,
   "metadata": {},
   "outputs": [
    {
     "data": {
      "text/plain": [
       "['brown']"
      ]
     },
     "execution_count": 15,
     "metadata": {},
     "output_type": "execute_result"
    }
   ],
   "source": [
    "hdq.get_next_values()"
   ]
  },
  {
   "cell_type": "code",
   "execution_count": 16,
   "metadata": {},
   "outputs": [
    {
     "data": {
      "text/plain": [
       "['fox']"
      ]
     },
     "execution_count": 16,
     "metadata": {},
     "output_type": "execute_result"
    }
   ],
   "source": [
    "hd2.get_next_values()"
   ]
  },
  {
   "cell_type": "code",
   "execution_count": 17,
   "metadata": {},
   "outputs": [],
   "source": [
    "t1 = hydraseq.Hydraseq('theseus')"
   ]
  },
  {
   "cell_type": "code",
   "execution_count": 18,
   "metadata": {},
   "outputs": [
    {
     "data": {
      "text/plain": [
       "uuid: theseus\n",
       "n_init: <node: (*),(*)>:\n",
       "active values: ['way']\n",
       "next values: []"
      ]
     },
     "execution_count": 18,
     "metadata": {},
     "output_type": "execute_result"
    }
   ],
   "source": [
    "t1.insert(\"number ad0\")\n",
    "t1.insert('word ad11')\n",
    "t1.insert('word word ad12')\n",
    "t1.insert('way ad2')\n",
    "t1.insert('number word')\n",
    "t1.insert('number word word')\n",
    "t1.insert('number word word way')"
   ]
  },
  {
   "cell_type": "code",
   "execution_count": 19,
   "metadata": {},
   "outputs": [],
   "source": [
    "t2 = hydraseq.Hydraseq('theship')"
   ]
  },
  {
   "cell_type": "code",
   "execution_count": 20,
   "metadata": {},
   "outputs": [
    {
     "data": {
      "text/plain": [
       "uuid: theship\n",
       "n_init: <node: (*),(*)>:\n",
       "active values: ['ADDRESS']\n",
       "next values: []"
      ]
     },
     "execution_count": 20,
     "metadata": {},
     "output_type": "execute_result"
    }
   ],
   "source": [
    "t2.insert(\"ad0 ad1 ADDRESS\")"
   ]
  },
  {
   "cell_type": "code",
   "execution_count": 21,
   "metadata": {},
   "outputs": [
    {
     "name": "stdout",
     "output_type": "stream",
     "text": [
      "=== number ===\n",
      "0:1 ['ad0'] ['number']\n",
      "=== word ===\n",
      "0:2 [] ['number', 'word']\n",
      "1:2 ['ad11'] ['word']\n",
      "=== word ===\n",
      "0:3 [] ['number', 'word', 'word']\n",
      "1:3 ['ad12'] ['word', 'word']\n",
      "2:3 ['ad11'] ['word']\n"
     ]
    }
   ],
   "source": [
    "t2.reset()\n",
    "t1.reset()\n",
    "t1array = []\n",
    "words = \"number word word\".split()\n",
    "for idx, wrd in enumerate(words):\n",
    "    print(\"===\",wrd,\"===\")\n",
    "    new_hydra = hydraseq.Hydraseq(idx, t1)\n",
    "    t1array.append(new_hydra)\n",
    "    for ta in t1array:\n",
    "        print(\n",
    "            \"{}:{}\".format(ta.uuid, idx+1),\n",
    "            [word for word in ta.hit([wrd]).get_next_values() if word.startswith(\"ad\")],\n",
    "            words[ta.uuid:idx+1]\n",
    "        )\n"
   ]
  },
  {
   "cell_type": "code",
   "execution_count": 22,
   "metadata": {},
   "outputs": [
    {
     "data": {
      "text/plain": [
       "[<node: word,(*) number word>]"
      ]
     },
     "execution_count": 22,
     "metadata": {},
     "output_type": "execute_result"
    }
   ],
   "source": [
    "t1.reset()\n",
    "t1.look_ahead(\"number word\")\n",
    "t1.active_nodes"
   ]
  }
 ],
 "metadata": {
  "kernelspec": {
   "display_name": "Python 3",
   "language": "python",
   "name": "python3"
  },
  "language_info": {
   "codemirror_mode": {
    "name": "ipython",
    "version": 3
   },
   "file_extension": ".py",
   "mimetype": "text/x-python",
   "name": "python",
   "nbconvert_exporter": "python",
   "pygments_lexer": "ipython3",
   "version": "3.6.4"
  }
 },
 "nbformat": 4,
 "nbformat_minor": 2
}
