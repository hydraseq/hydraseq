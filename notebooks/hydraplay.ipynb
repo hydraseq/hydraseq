{
 "cells": [
  {
   "cell_type": "code",
   "execution_count": 1,
   "metadata": {},
   "outputs": [],
   "source": [
    "import sys\n",
    "sys.path.append(\"/Users/efrain/niarfe/myrepos/hydraseq/\")\n",
    "import hydraseq\n",
    "#Check out the cell, second from bottom, I think that is it"
   ]
  },
  {
   "cell_type": "code",
   "execution_count": 2,
   "metadata": {},
   "outputs": [],
   "source": [
    "hdq = hydraseq.Hydraseq('one')"
   ]
  },
  {
   "cell_type": "code",
   "execution_count": 3,
   "metadata": {},
   "outputs": [
    {
     "data": {
      "text/plain": [
       "uuid: one\n",
       "n_init: <node: (*),(*)>:\n",
       "active values: ['dog']\n",
       "next values: []"
      ]
     },
     "execution_count": 3,
     "metadata": {},
     "output_type": "execute_result"
    }
   ],
   "source": [
    "hdq.insert(\"the quick brown fox jumped over the lazy dog\")"
   ]
  },
  {
   "cell_type": "code",
   "execution_count": 4,
   "metadata": {},
   "outputs": [
    {
     "data": {
      "text/plain": [
       "['brown']"
      ]
     },
     "execution_count": 4,
     "metadata": {},
     "output_type": "execute_result"
    }
   ],
   "source": [
    "hdq.look_ahead(\"the quick\").get_next_values()"
   ]
  },
  {
   "cell_type": "code",
   "execution_count": 5,
   "metadata": {},
   "outputs": [],
   "source": [
    "hd2 = hydraseq.Hydraseq('two')"
   ]
  },
  {
   "cell_type": "code",
   "execution_count": 6,
   "metadata": {},
   "outputs": [
    {
     "data": {
      "text/plain": [
       "[]"
      ]
     },
     "execution_count": 6,
     "metadata": {},
     "output_type": "execute_result"
    }
   ],
   "source": [
    "hd2.look_ahead(\"the quick\").get_next_values()"
   ]
  },
  {
   "cell_type": "code",
   "execution_count": 7,
   "metadata": {},
   "outputs": [],
   "source": [
    "hd2.columns = hdq.columns"
   ]
  },
  {
   "cell_type": "code",
   "execution_count": 8,
   "metadata": {},
   "outputs": [
    {
     "data": {
      "text/plain": [
       "[]"
      ]
     },
     "execution_count": 8,
     "metadata": {},
     "output_type": "execute_result"
    }
   ],
   "source": [
    "hd2.look_ahead(\"the quick\").get_next_values()"
   ]
  },
  {
   "cell_type": "code",
   "execution_count": 9,
   "metadata": {},
   "outputs": [
    {
     "data": {
      "text/plain": [
       "defaultdict(list,\n",
       "            {'brown': [<node: brown,(*) the quick brown>],\n",
       "             'dog': [<node: dog,(*) the quick brown fox jumped over the lazy dog>],\n",
       "             'fox': [<node: fox,(*) the quick brown fox>],\n",
       "             'jumped': [<node: jumped,(*) the quick brown fox jumped>],\n",
       "             'lazy': [<node: lazy,(*) the quick brown fox jumped over the lazy>],\n",
       "             'over': [<node: over,(*) the quick brown fox jumped over>],\n",
       "             'quick': [<node: quick,(*) the quick>],\n",
       "             'the': [<node: the,(*) the>,\n",
       "              <node: the,(*) the quick brown fox jumped over the>]})"
      ]
     },
     "execution_count": 9,
     "metadata": {},
     "output_type": "execute_result"
    }
   ],
   "source": [
    "hd2.columns"
   ]
  },
  {
   "cell_type": "code",
   "execution_count": 10,
   "metadata": {},
   "outputs": [],
   "source": [
    "hd2.n_init.nexts = hdq.n_init.nexts"
   ]
  },
  {
   "cell_type": "code",
   "execution_count": 11,
   "metadata": {},
   "outputs": [
    {
     "data": {
      "text/plain": [
       "['brown']"
      ]
     },
     "execution_count": 11,
     "metadata": {},
     "output_type": "execute_result"
    }
   ],
   "source": [
    "hd2.look_ahead(\"the quick\").get_next_values()"
   ]
  },
  {
   "cell_type": "code",
   "execution_count": 12,
   "metadata": {},
   "outputs": [
    {
     "data": {
      "text/plain": [
       "['brown']"
      ]
     },
     "execution_count": 12,
     "metadata": {},
     "output_type": "execute_result"
    }
   ],
   "source": [
    "hdq.get_next_values()"
   ]
  },
  {
   "cell_type": "code",
   "execution_count": 13,
   "metadata": {},
   "outputs": [
    {
     "data": {
      "text/plain": [
       "['brown']"
      ]
     },
     "execution_count": 13,
     "metadata": {},
     "output_type": "execute_result"
    }
   ],
   "source": [
    "hd2.get_next_values()"
   ]
  },
  {
   "cell_type": "code",
   "execution_count": 14,
   "metadata": {},
   "outputs": [
    {
     "data": {
      "text/plain": [
       "['fox']"
      ]
     },
     "execution_count": 14,
     "metadata": {},
     "output_type": "execute_result"
    }
   ],
   "source": [
    "hd2.hit(\"brown\").get_next_values()"
   ]
  },
  {
   "cell_type": "code",
   "execution_count": 15,
   "metadata": {},
   "outputs": [
    {
     "data": {
      "text/plain": [
       "['brown']"
      ]
     },
     "execution_count": 15,
     "metadata": {},
     "output_type": "execute_result"
    }
   ],
   "source": [
    "hdq.get_next_values()"
   ]
  },
  {
   "cell_type": "code",
   "execution_count": 16,
   "metadata": {},
   "outputs": [
    {
     "data": {
      "text/plain": [
       "['fox']"
      ]
     },
     "execution_count": 16,
     "metadata": {},
     "output_type": "execute_result"
    }
   ],
   "source": [
    "hd2.get_next_values()"
   ]
  },
  {
   "cell_type": "code",
   "execution_count": 17,
   "metadata": {},
   "outputs": [],
   "source": [
    "t1 = hydraseq.Hydraseq('theseus')"
   ]
  },
  {
   "cell_type": "code",
   "execution_count": 18,
   "metadata": {},
   "outputs": [
    {
     "data": {
      "text/plain": [
       "uuid: theseus\n",
       "n_init: <node: (*),(*)>:\n",
       "active values: ['way']\n",
       "next values: []"
      ]
     },
     "execution_count": 18,
     "metadata": {},
     "output_type": "execute_result"
    }
   ],
   "source": [
    "t1.insert(\"number ad0\")\n",
    "t1.insert('word ad11')\n",
    "t1.insert('number word addr')\n",
    "t1.insert('number word addum')\n",
    "t1.insert('word word ad12')\n",
    "t1.insert('way ad2')\n",
    "t1.insert('number word')\n",
    "t1.insert('number word word')\n",
    "t1.insert('number word word way')"
   ]
  },
  {
   "cell_type": "code",
   "execution_count": 19,
   "metadata": {},
   "outputs": [
    {
     "data": {
      "text/plain": [
       "uuid: theship\n",
       "n_init: <node: (*),(*)>:\n",
       "active values: ['theship_good']\n",
       "next values: []"
      ]
     },
     "execution_count": 19,
     "metadata": {},
     "output_type": "execute_result"
    }
   ],
   "source": [
    "t2 = hydraseq.Hydraseq('theship')\n",
    "t2.insert('addr addum theship_good')"
   ]
  },
  {
   "cell_type": "code",
   "execution_count": 20,
   "metadata": {},
   "outputs": [
    {
     "data": {
      "text/plain": [
       "uuid: theship\n",
       "n_init: <node: (*),(*)>:\n",
       "active values: ['ADDRESS']\n",
       "next values: []"
      ]
     },
     "execution_count": 20,
     "metadata": {},
     "output_type": "execute_result"
    }
   ],
   "source": [
    "t2.insert(\"ad0 ad1 ADDRESS\")"
   ]
  },
  {
   "cell_type": "code",
   "execution_count": 21,
   "metadata": {},
   "outputs": [],
   "source": [
    "def run_convolutions(words, seq, nxt=\"_\", seq2=None, nxt2=\"-\"):\n",
    "    hydras = []\n",
    "    results = []\n",
    "    \n",
    "    for idx, word in enumerate(words):\n",
    "        word_results = []\n",
    "        hydras.append(hydraseq.Hydraseq(idx, seq))\n",
    "        for depth, hydra in enumerate(hydras):\n",
    "            next_hits = [word for word in hydra.hit([word], is_learning=False).get_next_values() if word.startswith(nxt)]\n",
    "            valid_next = any([nxt.startswith(nxt2) for nxt in seq2.look_ahead(\" \".join(next_hits)).get_next_values()]) if seq2 else True\n",
    "            print(next_hits, valid_next)\n",
    "            if next_hits and valid_next: word_results.append([depth, idx+1, next_hits])\n",
    "        results.extend(word_results)\n",
    "    return results\n",
    "\n",
    "#run_convolutions(\"number word booger word\".split(), t1, \"ad\", t2, \"theship_\")"
   ]
  },
  {
   "cell_type": "code",
   "execution_count": 22,
   "metadata": {},
   "outputs": [
    {
     "name": "stdout",
     "output_type": "stream",
     "text": [
      "\n",
      "['_NUM'] True\n",
      "['_COMBO'] True\n",
      "['_STR'] True\n",
      "[[0, 1, ['_NUM']], [0, 2, ['_COMBO']], [1, 2, ['_STR']]]\n",
      "\n",
      "['_NUM'] True\n",
      "['_COMBO'] False\n",
      "['_STR'] True\n",
      "[[0, 1, ['_NUM']], [1, 2, ['_STR']]]\n"
     ]
    }
   ],
   "source": [
    "hdr1 = hydraseq.Hydraseq(\"one\")\n",
    "hdr2 = hydraseq.Hydraseq(\"two\")\n",
    "\n",
    "for pattern in [\n",
    "    \"123 _NUM\",\n",
    "    \"abc _STR\",\n",
    "    \"123abc _NUMSTR\",\n",
    "    \"abc123 _STRNUM\",\n",
    "    \"a _LTR\",\n",
    "    \"123 abc _COMBO\"\n",
    "]:\n",
    "    hdr1.insert(pattern)\n",
    "\n",
    "for pattern in [\n",
    "    \"_NUM _STR a_ADR\",\n",
    "    \"_NUM _STR _LTR a_ADR\",\n",
    "    \"_NUM a_GOOD1\",\n",
    "    \"_STR a_GOOD2\"\n",
    "]:\n",
    "    hdr2.insert(pattern)\n",
    "print()\n",
    "print(run_convolutions(\"123 abc\".split(), hdr1, \"_\", None, \"-\"))\n",
    "print()\n",
    "print(run_convolutions(\"123 abc\".split(), hdr1, \"_\", hdr2, \"a_\"))"
   ]
  },
  {
   "cell_type": "code",
   "execution_count": 23,
   "metadata": {},
   "outputs": [
    {
     "data": {
      "text/plain": [
       "['_LTR', 'a_ADR']"
      ]
     },
     "execution_count": 23,
     "metadata": {},
     "output_type": "execute_result"
    }
   ],
   "source": [
    "hdr2.look_ahead(\"_NUM _STR\").get_next_values()"
   ]
  },
  {
   "cell_type": "code",
   "execution_count": 28,
   "metadata": {},
   "outputs": [
    {
     "name": "stdout",
     "output_type": "stream",
     "text": [
      "Activating 1_test_3\n",
      "quick brown\n",
      "Activating 3_MID_7\n",
      "fox jumped over the\n",
      "Activating 7_N_9\n",
      "lazy dog\n"
     ]
    }
   ],
   "source": [
    "sentence = \"the quick brown fox jumped over the lazy dog\".split()\n",
    "patterns = []\n",
    "patterns.append(hydraseq.Pattern([1, 3,\"1_test_3\"]))\n",
    "patterns.append(hydraseq.Pattern([3, 7,\"3_MID_7\"]))\n",
    "patterns.append(hydraseq.Pattern([7, 9, \"7_N_9\"]))\n",
    "\n",
    "for pat in patterns:\n",
    "    pat.run_sequence(sentence)"
   ]
  },
  {
   "cell_type": "code",
   "execution_count": 37,
   "metadata": {},
   "outputs": [
    {
     "data": {
      "text/plain": [
       "['3_MID_7']"
      ]
     },
     "execution_count": 37,
     "metadata": {},
     "output_type": "execute_result"
    }
   ],
   "source": [
    "thala = hydraseq.Hydraseq('thalamus')\n",
    "pats2 = [[pat.key] for pat in patterns]\n",
    "thala.insert(pats2)\n",
    "\n",
    "thala.look_ahead([pats2[0]]).get_next_values()"
   ]
  }
 ],
 "metadata": {
  "kernelspec": {
   "display_name": "Python 3",
   "language": "python",
   "name": "python3"
  },
  "language_info": {
   "codemirror_mode": {
    "name": "ipython",
    "version": 3
   },
   "file_extension": ".py",
   "mimetype": "text/x-python",
   "name": "python",
   "nbconvert_exporter": "python",
   "pygments_lexer": "ipython3",
   "version": "3.6.4"
  }
 },
 "nbformat": 4,
 "nbformat_minor": 2
}
