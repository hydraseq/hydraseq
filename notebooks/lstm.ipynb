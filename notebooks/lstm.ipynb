{
 "cells": [
  {
   "cell_type": "code",
   "execution_count": 1,
   "metadata": {},
   "outputs": [
    {
     "name": "stdout",
     "output_type": "stream",
     "text": [
      "/Users/niarfe/tmprepos/hydra_inc/hydraseq/notebooks\r\n"
     ]
    }
   ],
   "source": [
    "! pwd\n",
    "import sys\n",
    "sys.path.append(\"/Users/niarfe/tmprepos/hydra_inc/hydraseq\")\n",
    "import hydraseq\n",
    "from hydraseq import Hydraseq\n",
    "from hydraseq.columns import run_convolutions"
   ]
  },
  {
   "cell_type": "code",
   "execution_count": 2,
   "metadata": {},
   "outputs": [],
   "source": [
    "sentence = \"the quick brown fox jumped over the lazy dog\""
   ]
  },
  {
   "cell_type": "code",
   "execution_count": 3,
   "metadata": {},
   "outputs": [],
   "source": [
    "hdq1 = hydraseq.Hydraseq('one')\n",
    "for pattern in [\n",
    "    \"the _ART\",\n",
    "    \"quick _ADJ\",\n",
    "    \"brown _ADJ\",\n",
    "    \"fox _NOU\",\n",
    "    \"jumped _VER\",\n",
    "    \"over _PRO\",\n",
    "    \"lazy _ADJ\",\n",
    "    \"dog _NOU\"\n",
    "]:\n",
    "    hdq1.insert(pattern)\n",
    "\n",
    "hdq2 = hydraseq.Hydraseq('two')\n",
    "for pattern in [\n",
    "    \"_NOU *NP*\",\n",
    "    \"_ADJ _NOU *NP*\",\n",
    "    \"_VER *VP*\",\n",
    "    \"_ADV _VER *VP*\",\n",
    "    \"_ART _NOU *NP*\",\n",
    "    \"_ART _ADJ _ADJ _NOU *NP*\",\n",
    "\n",
    "]:\n",
    "    hdq2.insert(pattern)\n",
    "\n",
    "hdq3 = hydraseq.Hydraseq('three')\n",
    "for pattern in [\n",
    "    \"*NP* *VP* #BINGO#\"\n",
    "]:\n",
    "    hdq3.insert(pattern)"
   ]
  },
  {
   "cell_type": "code",
   "execution_count": 4,
   "metadata": {},
   "outputs": [
    {
     "data": {
      "text/plain": [
       "Hydra:\n",
       "\tactive nodes: [the]\n",
       "\tnext nodes: [_ART]"
      ]
     },
     "execution_count": 4,
     "metadata": {},
     "output_type": "execute_result"
    }
   ],
   "source": [
    "hdq1.look_ahead('the')"
   ]
  },
  {
   "cell_type": "code",
   "execution_count": 31,
   "metadata": {},
   "outputs": [
    {
     "name": "stdout",
     "output_type": "stream",
     "text": [
      "0 ('the', [0, 1, ['_ART']])\n",
      "1 ('quick', [1, 2, ['_ADJ']])\n",
      "2 ('brown', [2, 3, ['_ADJ']])\n",
      "3 ('fox', [3, 4, ['_NOU']])\n",
      "4 ('jumped', [4, 5, ['_VER']])\n",
      "5 ('over', [5, 6, ['_PRO']])\n",
      "6 ('the', [6, 7, ['_ART']])\n",
      "7 ('lazy', [7, 8, ['_ADJ']])\n",
      "8 ('dog', [8, 9, ['_NOU']])\n"
     ]
    }
   ],
   "source": [
    "convos = run_convolutions(sentence.split(), hdq1, \"_\")\n",
    "#print(convos)\n",
    "encoded = list(map(lambda x: x[2], convos))\n",
    "for idx, tup in enumerate(zip(sentence.split(), convos)):\n",
    "    print(idx, tup)"
   ]
  },
  {
   "cell_type": "code",
   "execution_count": 32,
   "metadata": {},
   "outputs": [
    {
     "name": "stdout",
     "output_type": "stream",
     "text": [
      "0 ['the', 'quick', 'brown', 'fox'] [0, 4, ['*NP*']]\n",
      "1 ['brown', 'fox'] [2, 4, ['*NP*']]\n",
      "2 ['fox'] [3, 4, ['*NP*']]\n",
      "3 ['jumped'] [4, 5, ['*VP*']]\n",
      "4 ['lazy', 'dog'] [7, 9, ['*NP*']]\n",
      "5 ['dog'] [8, 9, ['*NP*']]\n"
     ]
    }
   ],
   "source": [
    "convos = run_convolutions(list(encoded), hdq2, \"*\")\n",
    "#print(convos)\n",
    "encoded = list(map(lambda x: x[2], convos))\n",
    "words = sentence.split()\n",
    "for idx, convo in enumerate(convos):\n",
    "    print(idx, words[convo[0]:convo[1]], convo)"
   ]
  },
  {
   "cell_type": "code",
   "execution_count": 30,
   "metadata": {},
   "outputs": [
    {
     "name": "stdout",
     "output_type": "stream",
     "text": [
      "[[2, 4, ['#BINGO#']]]\n"
     ]
    }
   ],
   "source": [
    "convos = run_convolutions(encoded, hdq3, \"#\")\n",
    "print(convos)"
   ]
  }
 ],
 "metadata": {
  "kernelspec": {
   "display_name": "Python 3",
   "language": "python",
   "name": "python3"
  },
  "language_info": {
   "codemirror_mode": {
    "name": "ipython",
    "version": 3
   },
   "file_extension": ".py",
   "mimetype": "text/x-python",
   "name": "python",
   "nbconvert_exporter": "python",
   "pygments_lexer": "ipython3",
   "version": "3.6.4"
  }
 },
 "nbformat": 4,
 "nbformat_minor": 2
}
