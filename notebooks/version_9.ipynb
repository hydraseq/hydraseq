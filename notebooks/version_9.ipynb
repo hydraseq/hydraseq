{
 "cells": [
  {
   "cell_type": "code",
   "execution_count": 1,
   "metadata": {},
   "outputs": [],
   "source": [
    "#! pip install hydraseq\n",
    "import hydraseq"
   ]
  },
  {
   "cell_type": "code",
   "execution_count": 2,
   "metadata": {},
   "outputs": [],
   "source": [
    "import re\n",
    "circle = \"\"\"\n",
    ".........n\n",
    "...XXX...n\n",
    "..X...X..n\n",
    ".X.....X.n\n",
    ".X.....X.n\n",
    ".X.....X.n\n",
    "..X....X.n\n",
    "...XXXX..n\n",
    ".........n\n",
    ".........n \n",
    "\"\"\".replace('\\n', '')\n",
    "\n",
    "square = \"\"\"\n",
    ".........n\n",
    ".XXXXXXX.n\n",
    ".X.....X.n\n",
    ".X.....X.n\n",
    ".X.....X.n\n",
    ".X.....X.n\n",
    ".X.....X.n\n",
    ".XXXXXXX.n\n",
    ".........n\n",
    ".........n \n",
    "\"\"\".replace('\\n', '')\n",
    "\n",
    "sletter = \"\"\"\n",
    ".........n\n",
    ".XXXXXXX.n\n",
    ".X.......n\n",
    ".X.......n\n",
    ".XXXXXXX.n\n",
    ".......X.n\n",
    ".......X.n\n",
    ".XXXXXXX.n\n",
    ".........n\n",
    ".........n \n",
    "\"\"\".replace('\\n', '')\n",
    "\n",
    "stream = re.sub(r'', ' ',sletter)\n",
    "print(stream)"
   ]
  },
  {
   "cell_type": "code",
   "execution_count": 3,
   "metadata": {},
   "outputs": [
    {
     "name": "stdout",
     "output_type": "stream",
     "text": [
      "START CONVO   . . . . . . . . . n . X X X X X X X . n . X . . . . . . . n . X . . . . . . . n . X X X X X X X . n . . . . . . . X . n . . . . . . . X . n . X X X X X X X . n . . . . . . . . . n . . . . . . . . . n      _\n",
      "WORD= ['n'] depth= 8 idx= 10  ACTIVE SEQ:  [['.', 'n']]  next_word= _e\n",
      "WORD= ['.'] depth= 9 idx= 11  ACTIVE SEQ:  [['n', '.']]  next_word= _s\n",
      "WORD= ['X'] depth= 10 idx= 12  ACTIVE SEQ:  [['.', 'X']]  next_word= _U\n",
      "WORD= ['.'] depth= 17 idx= 19  ACTIVE SEQ:  [['X', '.']]  next_word= _D\n",
      "WORD= ['n'] depth= 18 idx= 20  ACTIVE SEQ:  [['.', 'n']]  next_word= _e\n",
      "WORD= ['.'] depth= 19 idx= 21  ACTIVE SEQ:  [['n', '.']]  next_word= _s\n",
      "WORD= ['X'] depth= 20 idx= 22  ACTIVE SEQ:  [['.', 'X']]  next_word= _U\n",
      "WORD= ['.'] depth= 21 idx= 23  ACTIVE SEQ:  [['X', '.']]  next_word= _D\n",
      "WORD= ['n'] depth= 28 idx= 30  ACTIVE SEQ:  [['.', 'n']]  next_word= _e\n",
      "WORD= ['.'] depth= 29 idx= 31  ACTIVE SEQ:  [['n', '.']]  next_word= _s\n",
      "WORD= ['X'] depth= 30 idx= 32  ACTIVE SEQ:  [['.', 'X']]  next_word= _U\n",
      "WORD= ['.'] depth= 31 idx= 33  ACTIVE SEQ:  [['X', '.']]  next_word= _D\n",
      "WORD= ['n'] depth= 38 idx= 40  ACTIVE SEQ:  [['.', 'n']]  next_word= _e\n",
      "WORD= ['.'] depth= 39 idx= 41  ACTIVE SEQ:  [['n', '.']]  next_word= _s\n",
      "WORD= ['X'] depth= 40 idx= 42  ACTIVE SEQ:  [['.', 'X']]  next_word= _U\n",
      "WORD= ['.'] depth= 47 idx= 49  ACTIVE SEQ:  [['X', '.']]  next_word= _D\n",
      "WORD= ['n'] depth= 48 idx= 50  ACTIVE SEQ:  [['.', 'n']]  next_word= _e\n",
      "WORD= ['.'] depth= 49 idx= 51  ACTIVE SEQ:  [['n', '.']]  next_word= _s\n",
      "WORD= ['X'] depth= 56 idx= 58  ACTIVE SEQ:  [['.', 'X']]  next_word= _U\n",
      "WORD= ['.'] depth= 57 idx= 59  ACTIVE SEQ:  [['X', '.']]  next_word= _D\n",
      "WORD= ['n'] depth= 58 idx= 60  ACTIVE SEQ:  [['.', 'n']]  next_word= _e\n",
      "WORD= ['.'] depth= 59 idx= 61  ACTIVE SEQ:  [['n', '.']]  next_word= _s\n",
      "WORD= ['X'] depth= 66 idx= 68  ACTIVE SEQ:  [['.', 'X']]  next_word= _U\n",
      "WORD= ['.'] depth= 67 idx= 69  ACTIVE SEQ:  [['X', '.']]  next_word= _D\n",
      "WORD= ['n'] depth= 68 idx= 70  ACTIVE SEQ:  [['.', 'n']]  next_word= _e\n",
      "WORD= ['.'] depth= 69 idx= 71  ACTIVE SEQ:  [['n', '.']]  next_word= _s\n",
      "WORD= ['X'] depth= 70 idx= 72  ACTIVE SEQ:  [['.', 'X']]  next_word= _U\n",
      "WORD= ['.'] depth= 77 idx= 79  ACTIVE SEQ:  [['X', '.']]  next_word= _D\n",
      "WORD= ['n'] depth= 78 idx= 80  ACTIVE SEQ:  [['.', 'n']]  next_word= _e\n",
      "WORD= ['.'] depth= 79 idx= 81  ACTIVE SEQ:  [['n', '.']]  next_word= _s\n",
      "WORD= ['n'] depth= 88 idx= 90  ACTIVE SEQ:  [['.', 'n']]  next_word= _e\n",
      "WORD= ['.'] depth= 89 idx= 91  ACTIVE SEQ:  [['n', '.']]  next_word= _s\n",
      "WORD= ['n'] depth= 98 idx= 100  ACTIVE SEQ:  [['.', 'n']]  next_word= _e\n"
     ]
    }
   ],
   "source": [
    "hds0 = hydraseq.Hydraseq(\"_\")\n",
    "for pattern in [\n",
    "    \"X . _D\",\n",
    "    \". X _U\",\n",
    "    \". n _e\",\n",
    "    \"n . _s\",\n",
    "]:\n",
    "    hds0.insert(pattern)\n",
    "\n",
    "\n",
    "bigrams = hds0.convolutions(stream);\n",
    "bigram_list = [\"-\"]*len(stream)\n",
    "for idx, bigram in enumerate(bigrams):\n",
    "    bigram_list[bigram[0]] = bigram[2][0]\n",
    "\n",
    "for idx, bigram in enumerate(bigram_list):\n",
    "    if bigram == \"-\":\n",
    "        continue\n",
    "    else:\n",
    "        if bigram == \"_U\":\n",
    "            bigram_list[idx] = \"/\"\n",
    "        elif bigram == \"_D\":\n",
    "            bigram_list[idx] = \"\\\\\"\n",
    "        else:\n",
    "            bigram_list[idx] = bigram.replace('_', '')\n",
    "\n",
    "        \n",
    "\n",
    "        "
   ]
  },
  {
   "cell_type": "code",
   "execution_count": 4,
   "metadata": {},
   "outputs": [
    {
     "name": "stdout",
     "output_type": "stream",
     "text": [
      "--------es\n",
      "/------\\es\n",
      "/\\------es\n",
      "/\\------es\n",
      "/------\\es\n",
      "------/\\es\n",
      "------/\\es\n",
      "/------\\es\n",
      "--------es\n",
      "--------e-\n"
     ]
    }
   ],
   "source": [
    "for idx in range(0,100,10):\n",
    "    print(\"\".join(bigram_list[idx:idx+10]))"
   ]
  },
  {
   "cell_type": "code",
   "execution_count": 5,
   "metadata": {},
   "outputs": [
    {
     "name": "stdout",
     "output_type": "stream",
     "text": [
      "bigrams  [[8, 10, ['_e']], [9, 11, ['_s']], [10, 12, ['_U']], [17, 19, ['_D']], [18, 20, ['_e']], [19, 21, ['_s']], [20, 22, ['_U']], [21, 23, ['_D']], [28, 30, ['_e']], [29, 31, ['_s']], [30, 32, ['_U']], [31, 33, ['_D']], [38, 40, ['_e']], [39, 41, ['_s']], [40, 42, ['_U']], [47, 49, ['_D']], [48, 50, ['_e']], [49, 51, ['_s']], [56, 58, ['_U']], [57, 59, ['_D']], [58, 60, ['_e']], [59, 61, ['_s']], [66, 68, ['_U']], [67, 69, ['_D']], [68, 70, ['_e']], [69, 71, ['_s']], [70, 72, ['_U']], [77, 79, ['_D']], [78, 80, ['_e']], [79, 81, ['_s']], [88, 90, ['_e']], [89, 91, ['_s']], [98, 100, ['_e']]]\n",
      "filled  [[0, 0, ['_s']], [0, 8, ['_fill']], [8, 10, ['_e']], [9, 11, ['_s']], [10, 12, ['_U']], [12, 17, ['_fill']], [17, 19, ['_D']], [18, 20, ['_e']], [19, 21, ['_s']], [20, 22, ['_U']], [21, 23, ['_D']], [23, 28, ['_fill']], [28, 30, ['_e']], [29, 31, ['_s']], [30, 32, ['_U']], [31, 33, ['_D']], [33, 38, ['_fill']], [38, 40, ['_e']], [39, 41, ['_s']], [40, 42, ['_U']], [42, 47, ['_fill']], [47, 49, ['_D']], [48, 50, ['_e']], [49, 51, ['_s']], [51, 56, ['_fill']], [56, 58, ['_U']], [57, 59, ['_D']], [58, 60, ['_e']], [59, 61, ['_s']], [61, 66, ['_fill']], [66, 68, ['_U']], [67, 69, ['_D']], [68, 70, ['_e']], [69, 71, ['_s']], [70, 72, ['_U']], [72, 77, ['_fill']], [77, 79, ['_D']], [78, 80, ['_e']], [79, 81, ['_s']], [81, 88, ['_fill']], [88, 90, ['_e']], [89, 91, ['_s']], [91, 98, ['_fill']], [98, 100, ['_e']]]\n"
     ]
    }
   ],
   "source": [
    "print(\"bigrams \", bigrams)\n",
    "\n",
    "filled = [[0,0,['_s']]]\n",
    "for bigram in bigrams:\n",
    "    if filled[-1][1] < bigram[0]:\n",
    "        filled.append([filled[-1][1], bigram[0], ['_fill']])\n",
    "        filled.append(bigram)\n",
    "    else:\n",
    "        filled.append(bigram)\n",
    "print(\"filled \", filled)\n",
    "# hds = hydraseq.Hydraseq(\"_\")\n",
    "# hds.insert(stream+\" _stop\")\n",
    "# hds1 = hydraseq.Hydraseq(\"1_\")\n",
    "# for pattern in [\n",
    "#     \"_1 _A 1_1A\",\n",
    "#     \"_2 _A 1_2A\",\n",
    "#     \"_3 _A 1_3A\",\n",
    "#     \"_4 _A 1_4A\",\n",
    "#     \"_5 _A 1_5A\",\n",
    "#     \"_6 _A 1_6A\",\n",
    "#     \"_1 _B 1_1B\",\n",
    "#     \"_2 _B 1_2B\",\n",
    "#     \"_3 _B 1_3B\",\n",
    "#     \"_4 _B 1_4B\",\n",
    "#     \"_5 _B 1_5B\",\n",
    "#     \"_6 _B 1_6B\",\n",
    "    \n",
    "# ]:\n",
    "#     hds1.insert(pattern)\n",
    "\n",
    "\n",
    "# thoughts = hydraseq.think([hds, hds0, hds1])"
   ]
  },
  {
   "cell_type": "code",
   "execution_count": 6,
   "metadata": {},
   "outputs": [
    {
     "name": "stdout",
     "output_type": "stream",
     "text": [
      "_s _fill _e\n",
      "_s _U _fill _D _e\n",
      "_s _U _D _fill _e\n",
      "_s _U _D _fill _e\n",
      "_s _U _fill _D _e\n",
      "_s _fill _U _D _e\n",
      "_s _fill _U _D _e\n",
      "_s _U _fill _D _e\n",
      "_s _fill _e\n",
      "_s _fill _e\n"
     ]
    }
   ],
   "source": [
    "row = []\n",
    "for fill in filled:\n",
    "    if fill[2][0] != '_e':\n",
    "        row.append(fill[2][0])\n",
    "    else:\n",
    "        row.append(fill[2][0])\n",
    "        print(\" \".join(row))\n",
    "        row = []\n",
    "    "
   ]
  },
  {
   "cell_type": "code",
   "execution_count": 7,
   "metadata": {},
   "outputs": [
    {
     "name": "stdout",
     "output_type": "stream",
     "text": [
      "0\n",
      "10\n",
      "20\n",
      "30\n",
      "40\n",
      "50\n",
      "60\n",
      "70\n",
      "80\n",
      "90\n"
     ]
    }
   ],
   "source": [
    "for idx in range(0,100,10):\n",
    "    print(idx)"
   ]
  }
 ],
 "metadata": {
  "kernelspec": {
   "display_name": "Python 3",
   "language": "python",
   "name": "python3"
  },
  "language_info": {
   "codemirror_mode": {
    "name": "ipython",
    "version": 3
   },
   "file_extension": ".py",
   "mimetype": "text/x-python",
   "name": "python",
   "nbconvert_exporter": "python",
   "pygments_lexer": "ipython3",
   "version": "3.4.3"
  }
 },
 "nbformat": 4,
 "nbformat_minor": 2
}
