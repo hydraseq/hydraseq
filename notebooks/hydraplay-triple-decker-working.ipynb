{
 "cells": [
  {
   "cell_type": "code",
   "execution_count": 1,
   "metadata": {},
   "outputs": [],
   "source": [
    "import sys\n",
    "sys.path.append(\"/Users/efrain/niarfe/myrepos/hydraseq/\")\n",
    "import hydraseq"
   ]
  },
  {
   "cell_type": "code",
   "execution_count": 2,
   "metadata": {},
   "outputs": [],
   "source": [
    "sentence = \"the quick brown fox jumped over the lazy dog\""
   ]
  },
  {
   "cell_type": "code",
   "execution_count": 3,
   "metadata": {},
   "outputs": [],
   "source": [
    "hdq1 = hydraseq.Hydraseq('one')\n",
    "for pattern in [\n",
    "    \"the 0_A\",\n",
    "    \"quick 0_ADJ\",\n",
    "    \"brown 0_ADJ\",\n",
    "    \"fox 0_N\",\n",
    "    \"fox 0_V\",\n",
    "    \"jumped 0_V\",\n",
    "    \"over 0_PR\",\n",
    "    \"lazy 0_ADJ\",\n",
    "    \"dog 0_N\"\n",
    "]:\n",
    "    hdq1.insert(pattern)"
   ]
  },
  {
   "cell_type": "code",
   "execution_count": 4,
   "metadata": {},
   "outputs": [],
   "source": [
    "hdq2 = hydraseq.Hydraseq('two')\n",
    "for pattern in [\n",
    "    \"0_N _NP_\",\n",
    "    \"0_ADJ 0_N _NP_\",\n",
    "    \"0_V _VP_\",\n",
    "    \"0_ADV 0_V _VP_\",\n",
    "    \"0_A 0_N _NP_\",\n",
    "    \"0_A 0_ADJ 0_ADJ 0_N _NP_\",\n",
    "\n",
    "]:\n",
    "    hdq2.insert(pattern)"
   ]
  },
  {
   "cell_type": "code",
   "execution_count": 5,
   "metadata": {},
   "outputs": [],
   "source": [
    "hdq3 = hydraseq.Hydraseq('three')\n",
    "for pattern in [\n",
    "    \"_NP_ _VP_ 3_BINGO\"\n",
    "]:\n",
    "    hdq3.insert(pattern)"
   ]
  },
  {
   "cell_type": "code",
   "execution_count": 6,
   "metadata": {},
   "outputs": [],
   "source": [
    "def run_convolutions(words, seq, nxt=\"_\"):\n",
    "    words = words if isinstance(words, list) else seq.get_word_array(words)\n",
    "    hydras = []\n",
    "    results = []\n",
    "    \n",
    "    for idx, word in enumerate(words):\n",
    "        word_results = []\n",
    "        hydras.append(hydraseq.Hydraseq(idx, seq))\n",
    "        for depth, hydra in enumerate(hydras):\n",
    "            next_hits = [word for word in hydra.hit(word, is_learning=False).get_next_values() if word.startswith(nxt)]\n",
    "            if next_hits: word_results.append([depth, idx+1, next_hits])\n",
    "        results.extend(word_results)\n",
    "    return results"
   ]
  },
  {
   "cell_type": "code",
   "execution_count": 7,
   "metadata": {},
   "outputs": [
    {
     "name": "stdout",
     "output_type": "stream",
     "text": [
      "[[0, 1, ['0_A']], [1, 2, ['0_ADJ']], [2, 3, ['0_ADJ']], [3, 4, ['0_N', '0_V']], [4, 5, ['0_V']], [5, 6, ['0_PR']], [6, 7, ['0_A']], [7, 8, ['0_ADJ']], [8, 9, ['0_N']]]\n"
     ]
    },
    {
     "data": {
      "text/plain": [
       "[['0_A'],\n",
       " ['0_ADJ'],\n",
       " ['0_ADJ'],\n",
       " ['0_N', '0_V'],\n",
       " ['0_V'],\n",
       " ['0_PR'],\n",
       " ['0_A'],\n",
       " ['0_ADJ'],\n",
       " ['0_N']]"
      ]
     },
     "execution_count": 7,
     "metadata": {},
     "output_type": "execute_result"
    }
   ],
   "source": [
    "print(run_convolutions(sentence.split(), hdq1, \"0_\"))\n",
    "encoded = [code[2] for code in run_convolutions(sentence.split(), hdq1, \"0_\")]\n",
    "encoded"
   ]
  },
  {
   "cell_type": "code",
   "execution_count": 8,
   "metadata": {},
   "outputs": [
    {
     "name": "stdout",
     "output_type": "stream",
     "text": [
      "[[0, 4, ['_NP_']], [2, 4, ['_NP_']], [3, 4, ['_NP_', '_VP_']], [4, 5, ['_VP_']], [7, 9, ['_NP_']], [8, 9, ['_NP_']]]\n"
     ]
    },
    {
     "data": {
      "text/plain": [
       "[['_NP_'], ['_NP_'], ['_NP_', '_VP_'], ['_VP_'], ['_NP_'], ['_NP_']]"
      ]
     },
     "execution_count": 8,
     "metadata": {},
     "output_type": "execute_result"
    }
   ],
   "source": [
    "print(run_convolutions(encoded, hdq2, \"_\"))\n",
    "encoded2 = [code[2] for code in run_convolutions(encoded, hdq2, \"_\")]\n",
    "encoded2"
   ]
  },
  {
   "cell_type": "code",
   "execution_count": 9,
   "metadata": {},
   "outputs": [
    {
     "data": {
      "text/plain": [
       "[[1, 3, ['3_BINGO']], [2, 4, ['3_BINGO']]]"
      ]
     },
     "execution_count": 9,
     "metadata": {},
     "output_type": "execute_result"
    }
   ],
   "source": [
    "run_convolutions(encoded2, hdq3, \"3_\")"
   ]
  }
 ],
 "metadata": {
  "kernelspec": {
   "display_name": "Python 3",
   "language": "python",
   "name": "python3"
  },
  "language_info": {
   "codemirror_mode": {
    "name": "ipython",
    "version": 3
   },
   "file_extension": ".py",
   "mimetype": "text/x-python",
   "name": "python",
   "nbconvert_exporter": "python",
   "pygments_lexer": "ipython3",
   "version": "3.4.3"
  }
 },
 "nbformat": 4,
 "nbformat_minor": 2
}
