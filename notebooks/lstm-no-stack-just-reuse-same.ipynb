{
 "cells": [
  {
   "cell_type": "markdown",
   "metadata": {},
   "source": [
    "## Sun Feb 10 4:44 am\n",
    "* Initial pass at an LSTM based on hydraseq\n",
    "* It has context, which builds a hirarchical tree of convos at high level\n",
    "* Still need to define state a little better with active/predicted\n",
    "* Still need to use context, add to it so we can handle she/it etc from one sentence to the next"
   ]
  },
  {
   "cell_type": "code",
   "execution_count": 1,
   "metadata": {},
   "outputs": [
    {
     "name": "stdout",
     "output_type": "stream",
     "text": [
      "/Users/niarfe/tmprepos/hydra_inc/hydraseq/notebooks\r\n"
     ]
    }
   ],
   "source": [
    "! pwd\n",
    "import sys\n",
    "sys.path.append(\"/Users/niarfe/tmprepos/hydra_inc/hydraseq\")\n",
    "import hydraseq\n",
    "from hydraseq import Hydraseq\n",
    "from hydraseq.columns import *\n",
    "! pip list | grep hydra"
   ]
  },
  {
   "cell_type": "code",
   "execution_count": 27,
   "metadata": {},
   "outputs": [
    {
     "name": "stdout",
     "output_type": "stream",
     "text": [
      "[[0, 1, ['0_ADJ', '0_NOU', '0_VER']], [1, 2, ['0_NOU', '0_VER']], [2, 3, ['0_ADJ', '0_NOU', '0_VER']]]\n",
      "[[0, 1, ['1_NP', '1_VP']], [0, 2, ['1_NP', '1_VP']], [1, 2, ['1_NP', '1_VP']], [1, 3, ['1_VP']], [2, 3, ['1_NP', '1_VP']]]\n",
      "[[0, 2, ['2_SENT']], [1, 3, ['2_SENT']], [2, 4, ['2_SENT']], [3, 5, ['2_SENT']]]\n"
     ]
    }
   ],
   "source": [
    "# sentence = \"the quick brown fox jumped over the lazy dog\"\n",
    "sentence = \"spring leaves spring\"\n",
    "source_file = [\"seasons.00.txt\", \"seasons.01.txt\", \"seasons.02.txt\"]\n",
    "\n",
    "h0 = hydraseq.Hydraseq('0_').load_from_file('seasons.00.txt')\n",
    "h1 = hydraseq.Hydraseq('1_').load_from_file('seasons.01.txt')\n",
    "h2 = hydraseq.Hydraseq('2_').load_from_file('seasons.02.txt')\n",
    "\n",
    "convos = h0.convolutions(sentence)\n",
    "print(convos)\n",
    "\n",
    "new_convos = run_convolutions(patterns_only(convos), h1, \"1_\")\n",
    "print(new_convos)\n",
    "\n",
    "new_new_convos = run_convolutions(patterns_only(new_convos), h2, \"2_\")\n",
    "print(new_new_convos)"
   ]
  },
  {
   "cell_type": "code",
   "execution_count": 3,
   "metadata": {},
   "outputs": [],
   "source": [
    "class LSTM:\n",
    "    def __init__(self, datasource=None):\n",
    "        self.hdqs = [\n",
    "            hydraseq.Hydraseq('_'),\n",
    "            hydraseq.Hydraseq('0_'),\n",
    "            hydraseq.Hydraseq('1_'),\n",
    "            hydraseq.Hydraseq('2_')\n",
    "        ]\n",
    "            \n",
    "        self.sentence = \"\"\n",
    "        self.convos0 = []\n",
    "        self.convos1 = []\n",
    "        self.convos2 = []\n",
    "        if datasource: self.consume_data(datasource)\n",
    "        self.sdrs = [\n",
    "            self.sentence,\n",
    "            self.convos0,\n",
    "            self.convos1,\n",
    "            self.convos2\n",
    "        ]\n",
    "        self.context = []\n",
    "        \n",
    "    \n",
    "    def consume_data(self, fpaths):\n",
    "        for fpath, hdq in zip(fpaths, self.hdqs[1:]):\n",
    "            with open(fpath, 'r') as source:\n",
    "                [hdq.insert(line.strip()) for line in source]\n",
    "\n",
    "    def process_sentence(self, sentence):\n",
    "        self.hdqs[0].insert(sentence + \" _exit\")\n",
    "        print(self.hdqs[0].columns)\n",
    "        print(self.hdqs[1].columns)\n",
    "        print(self.hdqs[2].columns)\n",
    "        print(self.hdqs[3].columns)\n",
    "        print(\"think: \", think(self.hdqs))\n",
    "        \n",
    "    \n",
    "    def treeify(self, tree, level, convo):\n",
    "        if level == 0:\n",
    "            #print(\"returning with \", convo)\n",
    "            tree['word'] = convo\n",
    "            return convo\n",
    "        #print(\"calling self.sdrs[{}][{}:{}]\".format(level-1, convo[0], convo[1]))\n",
    "        next_convos = self.sdrs[level-1][convo[0]:convo[1]]\n",
    "        current_dict = {}\n",
    "        tree[convo[2][0]] = current_dict\n",
    "        for conv in next_convos:\n",
    "            self.treeify(current_dict, level-1, conv)\n",
    "        \n",
    "    def __str__(self):\n",
    "        for sdr in self.sdrs:\n",
    "            print(sdr)\n",
    "            print()\n",
    "        print(self.context)\n",
    "        return \"OK\"\n"
   ]
  },
  {
   "cell_type": "code",
   "execution_count": 4,
   "metadata": {},
   "outputs": [
    {
     "name": "stdout",
     "output_type": "stream",
     "text": [
      "defaultdict(<class 'list'>, {'spring': [spring, spring], 'leaves': [leaves], '_exit': [_exit]})\n",
      "defaultdict(<class 'list'>, {'spring': [spring], '0_ADJ': [0_ADJ], '0_VER': [0_VER, 0_VER], '0_NOU': [0_NOU, 0_NOU], 'leaves': [leaves]})\n",
      "defaultdict(<class 'list'>, {'0_ADJ': [0_ADJ], '0_NOU': [0_NOU, 0_NOU], '1_NP': [1_NP], '0_VER': [0_VER], '1_VP': [1_VP]})\n",
      "defaultdict(<class 'list'>, {'1_NP': [1_NP, 1_NP], '1_VP': [1_VP, 1_VP], '2_SENT': [2_SENT, 2_SENT]})\n",
      "think:  [[[[0, 1, ['spring']], [1, 2, ['leaves']], [2, 3, ['spring']]]], [[[0, 1, ['0_ADJ', '0_NOU', '0_VER']], [1, 2, ['0_NOU', '0_VER']], [2, 3, ['0_ADJ', '0_NOU', '0_VER']]]], [[[0, 2, ['1_NP', '1_VP']]], [[1, 3, ['1_VP']]]], []]\n",
      "\n",
      "\n",
      "[]\n",
      "\n",
      "[]\n",
      "\n",
      "[]\n",
      "\n",
      "[]\n",
      "OK\n"
     ]
    }
   ],
   "source": [
    "lstm = LSTM(datasource=source_file)\n",
    "\n",
    "lstm.process_sentence(sentence)\n",
    "\n",
    "print(lstm)"
   ]
  },
  {
   "cell_type": "code",
   "execution_count": 5,
   "metadata": {},
   "outputs": [],
   "source": [
    "def marmalade(d_tree):\n",
    "    sep = 0\n",
    "    for parent_key, child_dict in d_tree.items():\n",
    "        #print('d ', parent_key, child_dict)\n",
    "        if 'word' in child_dict.keys():\n",
    "            print(parent_key, \"-->\", child_dict['word'])\n",
    "            continue\n",
    "        else:\n",
    "            for grand_name, grand_dict in child_dict.items():\n",
    "                print(parent_key, \"-->\", grand_name)\n",
    "            marmalade(child_dict)\n",
    "        sep += 1\n",
    "        \n",
    "for d_tree in lstm.context:\n",
    "    marmalade(d_tree)\n",
    "    print(\"------------\")"
   ]
  },
  {
   "cell_type": "code",
   "execution_count": 6,
   "metadata": {},
   "outputs": [
    {
     "data": {
      "text/plain": [
       "[[[[0, 1, ['spring']], [1, 2, ['leaves']], [2, 3, ['spring']]]],\n",
       " [[[0, 1, ['0_ADJ', '0_NOU', '0_VER']],\n",
       "   [1, 2, ['0_NOU', '0_VER']],\n",
       "   [2, 3, ['0_ADJ', '0_NOU', '0_VER']]]],\n",
       " [[[0, 2, ['1_NP', '1_VP']]], [[1, 3, ['1_VP']]]],\n",
       " []]"
      ]
     },
     "execution_count": 6,
     "metadata": {},
     "output_type": "execute_result"
    }
   ],
   "source": [
    "sentence = \"spring leaves spring\"\n",
    "\n",
    "hdq1 = Hydraseq('0_')\n",
    "for pattern in [\n",
    "    \"spring 0_ADJ\",\n",
    "    \"spring 0_VER\",\n",
    "    \"spring 0_NOU\",\n",
    "    \"leaves 0_VER\",\n",
    "    \"leaves 0_NOU\",\n",
    "]:\n",
    "    hdq1.insert(pattern)\n",
    "\n",
    "hdq2 = Hydraseq('1_')\n",
    "for pattern in [\n",
    "    \"0_ADJ 0_NOU 1_NP\",\n",
    "    \"0_VER 0_NOU 1_VP\",\n",
    "]:\n",
    "    hdq2.insert(pattern)\n",
    "hdq3 = Hydraseq('2_')\n",
    "for pattern in [\n",
    "    \"1_NP 1_VP 2_SENT\",\n",
    "    \"1_VP 1_NP 2_SENT\",\n",
    "]:\n",
    "    hdq3.insert(pattern)\n",
    "\n",
    "hdq0 = Hydraseq('_')\n",
    "hdq0.insert(sentence + \" _exit\")\n",
    "thoughts = think([hdq0, hdq1, hdq2, hdq3])\n",
    "\n",
    "#assert thoughts[3][0] == [[0, 3, ['2_FACE']]]\n",
    "thoughts"
   ]
  }
 ],
 "metadata": {
  "kernelspec": {
   "display_name": "Python 3",
   "language": "python",
   "name": "python3"
  },
  "language_info": {
   "codemirror_mode": {
    "name": "ipython",
    "version": 3
   },
   "file_extension": ".py",
   "mimetype": "text/x-python",
   "name": "python",
   "nbconvert_exporter": "python",
   "pygments_lexer": "ipython3",
   "version": "3.6.4"
  }
 },
 "nbformat": 4,
 "nbformat_minor": 2
}
